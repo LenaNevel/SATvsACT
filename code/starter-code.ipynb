{
 "cells": [
  {
   "cell_type": "markdown",
   "metadata": {},
   "source": [
    "# Project 1: SAT & ACT Analysis"
   ]
  },
  {
   "cell_type": "markdown",
   "metadata": {},
   "source": [
    "## Problem Statement"
   ]
  },
  {
   "cell_type": "markdown",
   "metadata": {},
   "source": [
    "In this project we were provided with SAT and ACT test data collected in 2017 and 2018 for 50 USA states plus District of Columbia. The goal was to look at the participation rates for each test. The question posed is: what actions can be taken to increase the participation amoung high school seniours in taking the SAT and ACT test before graduation."
   ]
  },
  {
   "cell_type": "markdown",
   "metadata": {},
   "source": [
    "## Executive Summary\n",
    "\n",
    "By analysing the data, I have come to the conclusion that participation is highly dependent on the state by state requirement. For the states that require, for example, the student to take the SAT test, the participation is 100%. Same can be observed for the ACT participation. Interestingly, the SAT participation and the ACT participation are negatively correlated. This means that as one goes up the other goes down. \n",
    "\n",
    "As a side note, I also noticed that the scores and participation are negatively correlated as well. This could be a question to dive in to deeper in the future. \n",
    "\n",
    "### Contents:\n",
    "- [2017 Data Import & Cleaning](#Data-Import-and-Cleaning)\n",
    "- [2018 Data Import and Cleaning](#2018-Data-Import-and-Cleaning)\n",
    "- [Exploratory Data Analysis](#Exploratory-Data-Analysis)\n",
    "- [Data Visualization](#Visualize-the-data)\n",
    "- [Descriptive and Inferential Statistics](#Descriptive-and-Inferential-Statistics)\n",
    "- [Outside Research](#Outside-Research)\n",
    "- [Conclusions and Recommendations](#Conclusions-and-Recommendations)"
   ]
  },
  {
   "cell_type": "markdown",
   "metadata": {},
   "source": [
    "**If you combine your problem statement, executive summary, data dictionary, and conclusions/recommendations, you have an amazing README.md file that quickly aligns your audience to the contents of your project.** Don't forget to cite your data sources!"
   ]
  },
  {
   "cell_type": "markdown",
   "metadata": {},
   "source": [
    "*All libraries used should be added here*"
   ]
  },
  {
   "cell_type": "code",
   "execution_count": 1,
   "metadata": {},
   "outputs": [],
   "source": [
    "import pandas as pd\n",
    "import numpy as np\n",
    "import seaborn as sns\n",
    "import matplotlib.pyplot as plt\n",
    "import os"
   ]
  },
  {
   "cell_type": "markdown",
   "metadata": {},
   "source": [
    "## 2017 Data Import and Cleaning"
   ]
  },
  {
   "cell_type": "markdown",
   "metadata": {},
   "source": [
    "#### 1. Read In SAT & ACT  Data\n",
    "\n",
    "Read in the `sat_2017.csv` and `act_2017.csv` files and assign them to appropriately named pandas dataframes."
   ]
  },
  {
   "cell_type": "code",
   "execution_count": 2,
   "metadata": {},
   "outputs": [],
   "source": [
    "sat_scores_2017 = pd.read_csv('../data/sat_2017.csv')\n",
    "act_scores_2017 = pd.read_csv('../data/act_2017.csv')"
   ]
  },
  {
   "cell_type": "markdown",
   "metadata": {},
   "source": [
    "#### 2. Display Data\n",
    "\n",
    "Print the first 10 rows of each dataframe to your jupyter notebook"
   ]
  },
  {
   "cell_type": "code",
   "execution_count": 3,
   "metadata": {},
   "outputs": [
    {
     "data": {
      "text/html": [
       "<div>\n",
       "<style scoped>\n",
       "    .dataframe tbody tr th:only-of-type {\n",
       "        vertical-align: middle;\n",
       "    }\n",
       "\n",
       "    .dataframe tbody tr th {\n",
       "        vertical-align: top;\n",
       "    }\n",
       "\n",
       "    .dataframe thead th {\n",
       "        text-align: right;\n",
       "    }\n",
       "</style>\n",
       "<table border=\"1\" class=\"dataframe\">\n",
       "  <thead>\n",
       "    <tr style=\"text-align: right;\">\n",
       "      <th></th>\n",
       "      <th>State</th>\n",
       "      <th>Participation</th>\n",
       "      <th>Evidence-Based Reading and Writing</th>\n",
       "      <th>Math</th>\n",
       "      <th>Total</th>\n",
       "    </tr>\n",
       "  </thead>\n",
       "  <tbody>\n",
       "    <tr>\n",
       "      <th>0</th>\n",
       "      <td>Alabama</td>\n",
       "      <td>5%</td>\n",
       "      <td>593</td>\n",
       "      <td>572</td>\n",
       "      <td>1165</td>\n",
       "    </tr>\n",
       "    <tr>\n",
       "      <th>1</th>\n",
       "      <td>Alaska</td>\n",
       "      <td>38%</td>\n",
       "      <td>547</td>\n",
       "      <td>533</td>\n",
       "      <td>1080</td>\n",
       "    </tr>\n",
       "    <tr>\n",
       "      <th>2</th>\n",
       "      <td>Arizona</td>\n",
       "      <td>30%</td>\n",
       "      <td>563</td>\n",
       "      <td>553</td>\n",
       "      <td>1116</td>\n",
       "    </tr>\n",
       "    <tr>\n",
       "      <th>3</th>\n",
       "      <td>Arkansas</td>\n",
       "      <td>3%</td>\n",
       "      <td>614</td>\n",
       "      <td>594</td>\n",
       "      <td>1208</td>\n",
       "    </tr>\n",
       "    <tr>\n",
       "      <th>4</th>\n",
       "      <td>California</td>\n",
       "      <td>53%</td>\n",
       "      <td>531</td>\n",
       "      <td>524</td>\n",
       "      <td>1055</td>\n",
       "    </tr>\n",
       "    <tr>\n",
       "      <th>5</th>\n",
       "      <td>Colorado</td>\n",
       "      <td>11%</td>\n",
       "      <td>606</td>\n",
       "      <td>595</td>\n",
       "      <td>1201</td>\n",
       "    </tr>\n",
       "    <tr>\n",
       "      <th>6</th>\n",
       "      <td>Connecticut</td>\n",
       "      <td>100%</td>\n",
       "      <td>530</td>\n",
       "      <td>512</td>\n",
       "      <td>1041</td>\n",
       "    </tr>\n",
       "    <tr>\n",
       "      <th>7</th>\n",
       "      <td>Delaware</td>\n",
       "      <td>100%</td>\n",
       "      <td>503</td>\n",
       "      <td>492</td>\n",
       "      <td>996</td>\n",
       "    </tr>\n",
       "    <tr>\n",
       "      <th>8</th>\n",
       "      <td>District of Columbia</td>\n",
       "      <td>100%</td>\n",
       "      <td>482</td>\n",
       "      <td>468</td>\n",
       "      <td>950</td>\n",
       "    </tr>\n",
       "    <tr>\n",
       "      <th>9</th>\n",
       "      <td>Florida</td>\n",
       "      <td>83%</td>\n",
       "      <td>520</td>\n",
       "      <td>497</td>\n",
       "      <td>1017</td>\n",
       "    </tr>\n",
       "  </tbody>\n",
       "</table>\n",
       "</div>"
      ],
      "text/plain": [
       "                  State Participation  Evidence-Based Reading and Writing  \\\n",
       "0               Alabama            5%                                 593   \n",
       "1                Alaska           38%                                 547   \n",
       "2               Arizona           30%                                 563   \n",
       "3              Arkansas            3%                                 614   \n",
       "4            California           53%                                 531   \n",
       "5              Colorado           11%                                 606   \n",
       "6           Connecticut          100%                                 530   \n",
       "7              Delaware          100%                                 503   \n",
       "8  District of Columbia          100%                                 482   \n",
       "9               Florida           83%                                 520   \n",
       "\n",
       "   Math  Total  \n",
       "0   572   1165  \n",
       "1   533   1080  \n",
       "2   553   1116  \n",
       "3   594   1208  \n",
       "4   524   1055  \n",
       "5   595   1201  \n",
       "6   512   1041  \n",
       "7   492    996  \n",
       "8   468    950  \n",
       "9   497   1017  "
      ]
     },
     "execution_count": 3,
     "metadata": {},
     "output_type": "execute_result"
    }
   ],
   "source": [
    "sat_scores_2017.head(10)"
   ]
  },
  {
   "cell_type": "code",
   "execution_count": 4,
   "metadata": {},
   "outputs": [
    {
     "data": {
      "text/html": [
       "<div>\n",
       "<style scoped>\n",
       "    .dataframe tbody tr th:only-of-type {\n",
       "        vertical-align: middle;\n",
       "    }\n",
       "\n",
       "    .dataframe tbody tr th {\n",
       "        vertical-align: top;\n",
       "    }\n",
       "\n",
       "    .dataframe thead th {\n",
       "        text-align: right;\n",
       "    }\n",
       "</style>\n",
       "<table border=\"1\" class=\"dataframe\">\n",
       "  <thead>\n",
       "    <tr style=\"text-align: right;\">\n",
       "      <th></th>\n",
       "      <th>State</th>\n",
       "      <th>Participation</th>\n",
       "      <th>English</th>\n",
       "      <th>Math</th>\n",
       "      <th>Reading</th>\n",
       "      <th>Science</th>\n",
       "      <th>Composite</th>\n",
       "    </tr>\n",
       "  </thead>\n",
       "  <tbody>\n",
       "    <tr>\n",
       "      <th>42</th>\n",
       "      <td>South Dakota</td>\n",
       "      <td>80%</td>\n",
       "      <td>20.7</td>\n",
       "      <td>21.5</td>\n",
       "      <td>22.3</td>\n",
       "      <td>22.0</td>\n",
       "      <td>21.8</td>\n",
       "    </tr>\n",
       "    <tr>\n",
       "      <th>43</th>\n",
       "      <td>Tennessee</td>\n",
       "      <td>100%</td>\n",
       "      <td>19.5</td>\n",
       "      <td>19.2</td>\n",
       "      <td>20.1</td>\n",
       "      <td>19.9</td>\n",
       "      <td>19.8</td>\n",
       "    </tr>\n",
       "    <tr>\n",
       "      <th>44</th>\n",
       "      <td>Texas</td>\n",
       "      <td>45%</td>\n",
       "      <td>19.5</td>\n",
       "      <td>20.7</td>\n",
       "      <td>21.1</td>\n",
       "      <td>20.9</td>\n",
       "      <td>20.7</td>\n",
       "    </tr>\n",
       "    <tr>\n",
       "      <th>45</th>\n",
       "      <td>Utah</td>\n",
       "      <td>100%</td>\n",
       "      <td>19.5</td>\n",
       "      <td>19.9</td>\n",
       "      <td>20.8</td>\n",
       "      <td>20.6</td>\n",
       "      <td>20.3</td>\n",
       "    </tr>\n",
       "    <tr>\n",
       "      <th>46</th>\n",
       "      <td>Vermont</td>\n",
       "      <td>29%</td>\n",
       "      <td>23.3</td>\n",
       "      <td>23.1</td>\n",
       "      <td>24.4</td>\n",
       "      <td>23.2</td>\n",
       "      <td>23.6</td>\n",
       "    </tr>\n",
       "    <tr>\n",
       "      <th>47</th>\n",
       "      <td>Virginia</td>\n",
       "      <td>29%</td>\n",
       "      <td>23.5</td>\n",
       "      <td>23.3</td>\n",
       "      <td>24.6</td>\n",
       "      <td>23.5</td>\n",
       "      <td>23.8</td>\n",
       "    </tr>\n",
       "    <tr>\n",
       "      <th>48</th>\n",
       "      <td>Washington</td>\n",
       "      <td>29%</td>\n",
       "      <td>20.9</td>\n",
       "      <td>21.9</td>\n",
       "      <td>22.1</td>\n",
       "      <td>22.0</td>\n",
       "      <td>21.9</td>\n",
       "    </tr>\n",
       "    <tr>\n",
       "      <th>49</th>\n",
       "      <td>West Virginia</td>\n",
       "      <td>69%</td>\n",
       "      <td>20.0</td>\n",
       "      <td>19.4</td>\n",
       "      <td>21.2</td>\n",
       "      <td>20.5</td>\n",
       "      <td>20.4</td>\n",
       "    </tr>\n",
       "    <tr>\n",
       "      <th>50</th>\n",
       "      <td>Wisconsin</td>\n",
       "      <td>100%</td>\n",
       "      <td>19.7</td>\n",
       "      <td>20.4</td>\n",
       "      <td>20.6</td>\n",
       "      <td>20.9</td>\n",
       "      <td>20.5</td>\n",
       "    </tr>\n",
       "    <tr>\n",
       "      <th>51</th>\n",
       "      <td>Wyoming</td>\n",
       "      <td>100%</td>\n",
       "      <td>19.4</td>\n",
       "      <td>19.8</td>\n",
       "      <td>20.8</td>\n",
       "      <td>20.6</td>\n",
       "      <td>20.2x</td>\n",
       "    </tr>\n",
       "  </tbody>\n",
       "</table>\n",
       "</div>"
      ],
      "text/plain": [
       "            State Participation  English  Math  Reading  Science Composite\n",
       "42   South Dakota           80%     20.7  21.5     22.3     22.0      21.8\n",
       "43      Tennessee          100%     19.5  19.2     20.1     19.9      19.8\n",
       "44          Texas           45%     19.5  20.7     21.1     20.9      20.7\n",
       "45           Utah          100%     19.5  19.9     20.8     20.6      20.3\n",
       "46        Vermont           29%     23.3  23.1     24.4     23.2      23.6\n",
       "47       Virginia           29%     23.5  23.3     24.6     23.5      23.8\n",
       "48     Washington           29%     20.9  21.9     22.1     22.0      21.9\n",
       "49  West Virginia           69%     20.0  19.4     21.2     20.5      20.4\n",
       "50      Wisconsin          100%     19.7  20.4     20.6     20.9      20.5\n",
       "51        Wyoming          100%     19.4  19.8     20.8     20.6     20.2x"
      ]
     },
     "execution_count": 4,
     "metadata": {},
     "output_type": "execute_result"
    }
   ],
   "source": [
    "act_scores_2017.tail(10)"
   ]
  },
  {
   "cell_type": "markdown",
   "metadata": {},
   "source": [
    "#### 3. Verbally Describe Data\n",
    "\n",
    "Take your time looking through the data and thoroughly describe the data in the markdown cell below. "
   ]
  },
  {
   "cell_type": "markdown",
   "metadata": {},
   "source": [
    "The SAT data that we downloaded consists of 5 components for the year 2017. The State column lists the 50 USA states plus the District of Columbia. Then we have the column giving us the participation rate by state. In addition we have the Evidence-Based Reading and Writing column and Math column which provide the average scores respectfully. Last but not least, we have the Total column which provides the total Reading and Writing plus Math scores. \n",
    "\n",
    "For the ACT data, we again have the State column that list the 50 states plus the District of Columbia, and National. For each State we are provided with participation rate along with averages of the English, Math, Reading and Science scores. The Composite column gives us the average of English, Math, Reading and Science scores. "
   ]
  },
  {
   "cell_type": "markdown",
   "metadata": {},
   "source": [
    "#### 4a. Does the data look complete? "
   ]
  },
  {
   "cell_type": "markdown",
   "metadata": {},
   "source": [
    "The main difference between the SAT and ACT scores is that ACT has a National average which SAT does not. All of the data looks complete. There might be a small issue with the Wyoming row of ACT scores because at the end of the composite value there is an 'x' which is not present in any other Composite values provided. How it will influence our data errors we will be able to see below when we investigate the data further. "
   ]
  },
  {
   "cell_type": "markdown",
   "metadata": {},
   "source": [
    "#### 4b. Are there any obvious issues with the observations?\n",
    "\n",
    "**What is the minimum *possible* value for each test/subtest? What is the maximum *possible* value?**\n",
    "\n",
    "Consider comparing any questionable values to the sources of your data:\n",
    "- [SAT](https://blog.collegevine.com/here-are-the-average-sat-scores-by-state/)\n",
    "- [ACT](https://blog.prepscholar.com/act-scores-by-state-averages-highs-and-lows)"
   ]
  },
  {
   "cell_type": "code",
   "execution_count": 5,
   "metadata": {},
   "outputs": [
    {
     "name": "stdout",
     "output_type": "stream",
     "text": [
      "<class 'pandas.core.frame.DataFrame'>\n",
      "RangeIndex: 51 entries, 0 to 50\n",
      "Data columns (total 5 columns):\n",
      "State                                 51 non-null object\n",
      "Participation                         51 non-null object\n",
      "Evidence-Based Reading and Writing    51 non-null int64\n",
      "Math                                  51 non-null int64\n",
      "Total                                 51 non-null int64\n",
      "dtypes: int64(3), object(2)\n",
      "memory usage: 2.1+ KB\n"
     ]
    }
   ],
   "source": [
    "sat_scores_2017.info()"
   ]
  },
  {
   "cell_type": "code",
   "execution_count": 6,
   "metadata": {},
   "outputs": [
    {
     "name": "stdout",
     "output_type": "stream",
     "text": [
      "<class 'pandas.core.frame.DataFrame'>\n",
      "RangeIndex: 52 entries, 0 to 51\n",
      "Data columns (total 7 columns):\n",
      "State            52 non-null object\n",
      "Participation    52 non-null object\n",
      "English          52 non-null float64\n",
      "Math             52 non-null float64\n",
      "Reading          52 non-null float64\n",
      "Science          52 non-null float64\n",
      "Composite        52 non-null object\n",
      "dtypes: float64(4), object(3)\n",
      "memory usage: 3.0+ KB\n"
     ]
    }
   ],
   "source": [
    "act_scores_2017.info()"
   ]
  },
  {
   "cell_type": "markdown",
   "metadata": {},
   "source": [
    "There is an obvious issue with the Composite column in the ACT scores. It is marked by the computer as an object type data, where it should be a float, similar the the English, Math, Reading and Science columns. I suspect that the 'x' that I mentioned above is what is causing the issue. All the data seems to be present and there is no missing data. There is an issues that both Participation of SAT and Participation of ACT are marked as an 'object'. Data conversion will be needed there. "
   ]
  },
  {
   "cell_type": "code",
   "execution_count": 7,
   "metadata": {},
   "outputs": [
    {
     "data": {
      "text/plain": [
       "pandas.core.frame.DataFrame"
      ]
     },
     "execution_count": 7,
     "metadata": {},
     "output_type": "execute_result"
    }
   ],
   "source": [
    "type(sat_scores_2017)"
   ]
  },
  {
   "cell_type": "code",
   "execution_count": 8,
   "metadata": {},
   "outputs": [
    {
     "data": {
      "text/plain": [
       "pandas.core.frame.DataFrame"
      ]
     },
     "execution_count": 8,
     "metadata": {},
     "output_type": "execute_result"
    }
   ],
   "source": [
    "type(act_scores_2017)"
   ]
  },
  {
   "cell_type": "code",
   "execution_count": 9,
   "metadata": {},
   "outputs": [
    {
     "name": "stdout",
     "output_type": "stream",
     "text": [
      "The mimimum and maximum possible values of SAT test and subtests:\n",
      "Evidence-Based Reading and Writing: min - 482, max - 644\n",
      "Math: min - 52, max - 651\n",
      "Total: min - 950, max - 1295\n"
     ]
    }
   ],
   "source": [
    "print('The mimimum and maximum possible values of SAT test and subtests:')\n",
    "sat_data = ['Evidence-Based Reading and Writing', 'Math', 'Total']\n",
    "for c in sat_data:\n",
    "    \n",
    "    print('{}: min - {}, max - {}'.format(c, sat_scores_2017[c].min(), sat_scores_2017[c].max()))\n",
    "    \n",
    "  "
   ]
  },
  {
   "cell_type": "code",
   "execution_count": 10,
   "metadata": {},
   "outputs": [
    {
     "name": "stdout",
     "output_type": "stream",
     "text": [
      "The mimimum and maximum possible values of ACT test and subtests\n",
      "English: min - 16.3, max - 25.5\n",
      "Math: min - 18.0, max - 25.3\n",
      "Reading: min - 18.1, max - 26.0\n",
      "Science: min - 2.3, max - 24.9\n",
      "Composite: min - 17.8, max - 25.5\n"
     ]
    }
   ],
   "source": [
    "print('The mimimum and maximum possible values of ACT test and subtests')\n",
    "sat_data = ['English', 'Math', 'Reading', 'Science', 'Composite']\n",
    "for c in sat_data:\n",
    "    \n",
    "    print('{}: min - {}, max - {}'.format(c, act_scores_2017[c].min(), act_scores_2017[c].max()))  "
   ]
  },
  {
   "cell_type": "markdown",
   "metadata": {},
   "source": [
    "#### 4c. Fix any errors you identified\n",
    "\n",
    "**The data is available** so there's no need to guess or calculate anything. If you didn't find any errors, continue to the next step."
   ]
  },
  {
   "cell_type": "code",
   "execution_count": 11,
   "metadata": {},
   "outputs": [],
   "source": [
    "#Fixing the data point for Wyoming ACT Composite column\n",
    "act_scores_2017=act_scores_2017.replace('20.2x', '20.2')"
   ]
  },
  {
   "cell_type": "markdown",
   "metadata": {},
   "source": [
    "#### 5. What are your data types? \n",
    "Display the data types of each feature. "
   ]
  },
  {
   "cell_type": "code",
   "execution_count": 12,
   "metadata": {},
   "outputs": [
    {
     "data": {
      "text/plain": [
       "State                                 object\n",
       "Participation                         object\n",
       "Evidence-Based Reading and Writing     int64\n",
       "Math                                   int64\n",
       "Total                                  int64\n",
       "dtype: object"
      ]
     },
     "execution_count": 12,
     "metadata": {},
     "output_type": "execute_result"
    }
   ],
   "source": [
    "sat_scores_2017.dtypes\n"
   ]
  },
  {
   "cell_type": "code",
   "execution_count": 13,
   "metadata": {},
   "outputs": [
    {
     "data": {
      "text/plain": [
       "State             object\n",
       "Participation     object\n",
       "English          float64\n",
       "Math             float64\n",
       "Reading          float64\n",
       "Science          float64\n",
       "Composite         object\n",
       "dtype: object"
      ]
     },
     "execution_count": 13,
     "metadata": {},
     "output_type": "execute_result"
    }
   ],
   "source": [
    "act_scores_2017.dtypes"
   ]
  },
  {
   "cell_type": "markdown",
   "metadata": {},
   "source": [
    "What did you learn?\n",
    "- Do any of them seem odd?  \n",
    "- Which ones are not as they should be?  "
   ]
  },
  {
   "cell_type": "markdown",
   "metadata": {},
   "source": [
    "The Participation columns for both SAT and ACT were in object form and need to be converted to a float.  \n",
    "The Composite column of the ACT is an object and need to be converted to a float. "
   ]
  },
  {
   "cell_type": "markdown",
   "metadata": {},
   "source": [
    "#### 6. Fix Incorrect Data Types\n",
    "Based on what you discovered above, use appropriate methods to re-type incorrectly typed data.\n",
    "- Define a function that will allow you to convert participation rates to an appropriate numeric type. Use `map` or `apply` to change these columns in each dataframe."
   ]
  },
  {
   "cell_type": "code",
   "execution_count": 14,
   "metadata": {},
   "outputs": [
    {
     "data": {
      "text/plain": [
       "dtype('float64')"
      ]
     },
     "execution_count": 14,
     "metadata": {},
     "output_type": "execute_result"
    }
   ],
   "source": [
    "#Change the data type of Composite column from object to float.\n",
    "act_scores_2017['Composite'] = act_scores_2017['Composite'].astype(float)\n",
    "\n",
    "act_scores_2017['Composite'].dtypes"
   ]
  },
  {
   "cell_type": "markdown",
   "metadata": {},
   "source": [
    "- Fix any individual values preventing other columns from being the appropriate type."
   ]
  },
  {
   "cell_type": "code",
   "execution_count": 15,
   "metadata": {},
   "outputs": [],
   "source": [
    "#Now we need to change the type of Participation column in both SAT and ACT scores\n",
    "#First remove the % sign from Participation and make it a fraction of 1\n",
    "sat_scores_2017['Participation'] = sat_scores_2017['Participation'].map(lambda x: float(str(x).replace('%',''))/ 100)\n",
    "\n",
    "\n",
    "\n",
    "#Now do the same thing to the ACT data\n",
    "act_scores_2017['Participation'] = act_scores_2017['Participation'].apply(lambda x: float(str(x).replace('%',''))/ 100)\n",
    "#act_scores_2017['Participation'] = act_scores_2017['Participation'].str.replace('%','').astype(float) / 100"
   ]
  },
  {
   "cell_type": "markdown",
   "metadata": {},
   "source": [
    "- Finish your data modifications by making sure the columns are now typed appropriately."
   ]
  },
  {
   "cell_type": "code",
   "execution_count": 16,
   "metadata": {},
   "outputs": [
    {
     "data": {
      "text/plain": [
       "State                                  object\n",
       "Participation                         float64\n",
       "Evidence-Based Reading and Writing      int64\n",
       "Math                                    int64\n",
       "Total                                   int64\n",
       "dtype: object"
      ]
     },
     "execution_count": 16,
     "metadata": {},
     "output_type": "execute_result"
    }
   ],
   "source": [
    "sat_scores_2017.dtypes"
   ]
  },
  {
   "cell_type": "code",
   "execution_count": 17,
   "metadata": {},
   "outputs": [
    {
     "data": {
      "text/plain": [
       "State             object\n",
       "Participation    float64\n",
       "English          float64\n",
       "Math             float64\n",
       "Reading          float64\n",
       "Science          float64\n",
       "Composite        float64\n",
       "dtype: object"
      ]
     },
     "execution_count": 17,
     "metadata": {},
     "output_type": "execute_result"
    }
   ],
   "source": [
    "act_scores_2017.dtypes"
   ]
  },
  {
   "cell_type": "markdown",
   "metadata": {},
   "source": [
    "- Display the data types again to confirm they are correct."
   ]
  },
  {
   "cell_type": "markdown",
   "metadata": {},
   "source": [
    "It seems now the Participation columns are of correct data type in both SAT and ACT. Also the Composite column of ACT is now also a float. "
   ]
  },
  {
   "cell_type": "markdown",
   "metadata": {},
   "source": [
    "#### 7. Rename Columns\n",
    "Change the names of the columns to more expressive names so that you can tell the difference the SAT columns and the ACT columns. Your solution should map all column names being changed at once (no repeated singular name-changes). **We will be combining these data with some of the data from 2018, and so you should name columns in an appropriate way**.\n",
    "\n",
    "**Guidelines**:\n",
    "- Column names should be all lowercase (you will thank yourself when you start pushing data to SQL later in the course)\n",
    "- Column names should not contain spaces (underscores will suffice--this allows for using the `df.column_name` method to access columns in addition to `df['column_name']`.\n",
    "- Column names should be unique and informative (the only feature that we actually share between dataframes is the state)."
   ]
  },
  {
   "cell_type": "code",
   "execution_count": 18,
   "metadata": {},
   "outputs": [],
   "source": [
    "sat_scores_2017 = sat_scores_2017.rename(columns = {'State':'state', 'Participation': 'sat_part_2017', \n",
    "                                                   'Evidence-Based Reading and Writing': 'sat_read_2017', \n",
    "                                                   'Math': 'sat_math_2017', 'Total': 'sat_total_2017'})\n",
    "\n",
    "act_scores_2017 = act_scores_2017.rename(columns = {'State':'state', 'Participation': 'act_part_2017', \n",
    "                                                   'English': 'act_eng_2017', 'Math': 'act_math_2017', \n",
    "                                                   'Reading': 'act_read_2017', 'Science': 'act_science_2017',\n",
    "                                                   'Composite': 'act_comp_2017'})\n",
    "\n"
   ]
  },
  {
   "cell_type": "markdown",
   "metadata": {},
   "source": [
    "#### 8. Create a data dictionary\n",
    "\n",
    "Now that we've fixed our data, and given it appropriate names, let's create a [data dictionary](http://library.ucmerced.edu/node/10249). \n",
    "\n",
    "A data dictionary provides a quick overview of features/variables/columns, alongside data types and descriptions. The more descriptive you can be, the more useful this document is.\n",
    "\n",
    "Example of a Fictional Data Dictionary Entry: \n",
    "\n",
    "|Feature|Type|Dataset|Description|\n",
    "|---|---|---|---|\n",
    "|**county_pop**|*integer*|2010 census|The population of the county (units in thousands, where 2.5 represents 2500 people).| \n",
    "|**per_poverty**|*float*|2010 census|The percent of the county over the age of 18 living below the 200% of official US poverty rate (units percent to two decimal places 98.10 means 98.1%)|\n",
    "\n",
    "[Here's a quick link to a short guide for formatting markdown in Jupyter notebooks](https://jupyter-notebook.readthedocs.io/en/stable/examples/Notebook/Working%20With%20Markdown%20Cells.html).\n",
    "\n",
    "Provided is the skeleton for formatting a markdown table, with columns headers that will help you create a data dictionary to quickly summarize your data, as well as some examples. **This would be a great thing to copy and paste into your custom README for this project.**"
   ]
  },
  {
   "cell_type": "markdown",
   "metadata": {},
   "source": [
    "|Feature|Type|Dataset|Description|\n",
    "|---|---|---|---|\n",
    "|column name|int/float/object|ACT/SAT|This is an example| \n"
   ]
  },
  {
   "cell_type": "markdown",
   "metadata": {},
   "source": [
    "|Feature|Type|Dataset|Description|\n",
    "|---|---|---|---|\n",
    "|**state**|object|act_scores_2017/sat_scores_2017|Gives the name of the USA State.|\n",
    "|**sat_part_2017**|float|sat_scores_2017|Participation in the test for 2017(percentage). Given in fraction. SAT|\n",
    "|**sat_read_2017**|int|sat_scores_2017|Evidence-Based Reading and Writing average scores for SAT in 2017|\n",
    "|**sat_math_2017**|int|sat_scores_2017|Average Math scores for SAT in 2017|\n",
    "|**sat_total_2017**|int|sat_scores_2017|Total average SAT scores in 2017|\n",
    "|**act_part_2017**|float|act_scores_2017|Participation in the test for 2017(percentage). Given in fraction. ACT|\n",
    "|**act_eng_2017**|float|act_scores_2017|Average English scores for ACT in 2017|\n",
    "|**act_math_2017**|float|act_scores_2017|Average Math scores for ACT in 2017|\n",
    "|**act_read_2017**|float|act_scores_2017|Average Reading scores for ACT in 2017|\n",
    "|**act_science_2017**|float|act_scores_2017|Average Science scores for ACT in 2017|\n",
    "|**act_comp_2017**|float|act_scores_2017|Composite scores for ACT in 2017. Composite is the average of English, Math, Reading and Science scores.|\n"
   ]
  },
  {
   "cell_type": "markdown",
   "metadata": {},
   "source": [
    "#### 9. Drop unnecessary rows\n",
    "\n",
    "One of our dataframes contains an extra row. Identify and remove this from the dataframe."
   ]
  },
  {
   "cell_type": "code",
   "execution_count": 19,
   "metadata": {},
   "outputs": [],
   "source": [
    "# The ACT dataframe contains the National row, which is not in the SAT dataframe. Thus it is extra and can be removed.\n",
    "\n",
    "act_scores_2017=act_scores_2017[act_scores_2017.state != 'National']\n"
   ]
  },
  {
   "cell_type": "markdown",
   "metadata": {},
   "source": [
    "#### 10. Merge Dataframes\n",
    "\n",
    "Join the 2017 ACT and SAT dataframes using the state in each dataframe as the key. Assign this to a new variable."
   ]
  },
  {
   "cell_type": "code",
   "execution_count": 20,
   "metadata": {},
   "outputs": [],
   "source": [
    "act_sat_merge_2017 = pd.merge(left=act_scores_2017,right=sat_scores_2017, how = 'outer', \n",
    "                              left_on='state', right_on='state')\n"
   ]
  },
  {
   "cell_type": "markdown",
   "metadata": {},
   "source": [
    "#### 11. Save your cleaned, merged dataframe\n",
    "\n",
    "Use a relative path to save out your data as `combined_2017.csv`."
   ]
  },
  {
   "cell_type": "code",
   "execution_count": 21,
   "metadata": {},
   "outputs": [],
   "source": [
    "act_sat_merge_2017.to_csv('../data/combined_2017.csv')"
   ]
  },
  {
   "cell_type": "markdown",
   "metadata": {},
   "source": [
    "## 2018 Data Import and Cleaning"
   ]
  },
  {
   "cell_type": "markdown",
   "metadata": {},
   "source": [
    "Links to the 2018 ACT and SAT data are provided in the README. These data live in PDFs, and so you'll get to enjoy practicing some *manual* data collection. Save these data as a CSV in your `data` directory, and import, explore, and clean these data in the same way you did above. **Make sure you comment on your steps so it is clear *why* you are doing each process**."
   ]
  },
  {
   "cell_type": "code",
   "execution_count": 22,
   "metadata": {},
   "outputs": [
    {
     "name": "stdout",
     "output_type": "stream",
     "text": [
      "The number of times Maine appears in ACT data:\n",
      "2\n",
      "The new number of time Maine appears:\n",
      "1\n"
     ]
    }
   ],
   "source": [
    "#Importing the data\n",
    "sat_scores_2018 = pd.read_csv('../data/sat_2018.csv')\n",
    "act_scores_2018 = pd.read_csv('../data/act_2018.csv')\n",
    "\n",
    "#The Participation column is again saved as an object. Need to change it to a float. \n",
    "sat_scores_2018['Participation'] = sat_scores_2018['Participation'].str.replace('%','').astype(float) / 100\n",
    "\n",
    "\n",
    "#Need to do the same for the ACT data\n",
    "act_scores_2018['Participation'] = act_scores_2018['Participation'].str.replace('%','').astype(float) / 100\n",
    "\n",
    "#District of Columbia is spelled District of columbia and will create an issue when merging 2017 with 2018 files\n",
    "act_scores_2018=act_scores_2018.replace('District of columbia', 'District of Columbia')\n",
    "\n",
    "#Renaming the column so that they match the format taken above on the 2017 data\n",
    "\n",
    "sat_scores_2018 = sat_scores_2018.rename(columns = {'State':'state', 'Participation': 'sat_part_2018', \n",
    "                                                   'Evidence-Based Reading and Writing': 'sat_read_2018', \n",
    "                                                   'Math': 'sat_math_2018', 'Total': 'sat_total_2018'})\n",
    "\n",
    "act_scores_2018 = act_scores_2018.rename(columns = {'State':'state', 'Participation': 'act_part_2018', \n",
    "                                                   'Composite': 'act_comp_2018'})\n",
    "\n",
    "\n",
    "\n",
    "#Notice that the 2018 ACT data is missing the scores for English, Math, Reading and Science\n",
    "#There seems to be an extra row again in ACT data.\n",
    "#Examining the data for the \"National\" row in this case produced nothing. It seems that \"Maine\" in the 2018 ACT data\n",
    "#is counted twice. \n",
    "print('The number of times Maine appears in ACT data:')\n",
    "print(sum(act_scores_2018.state == 'Maine'))\n",
    "\n",
    "act_scores_2018=act_scores_2018.drop_duplicates(keep='first')\n",
    "\n",
    "print('The new number of time Maine appears:')\n",
    "print(sum(act_scores_2018.state == 'Maine'))\n",
    "\n"
   ]
  },
  {
   "cell_type": "code",
   "execution_count": 23,
   "metadata": {},
   "outputs": [
    {
     "name": "stdout",
     "output_type": "stream",
     "text": [
      "The mimimum and maximum possible values of SAT test and subtests for 2018 are:\n",
      "sat_part_2018: min - 0.02, max - 1.0\n",
      "sat_read_2018: min - 480, max - 643\n",
      "sat_math_2018: min - 480, max - 655\n",
      "sat_total_2018: min - 977, max - 1298\n"
     ]
    }
   ],
   "source": [
    "#Here I am looking at the possible min and max values of the SAT 2018\n",
    "\n",
    "print('The mimimum and maximum possible values of SAT test and subtests for 2018 are:')\n",
    "sat_data_2018 = ['sat_part_2018', 'sat_read_2018', 'sat_math_2018', 'sat_total_2018']\n",
    "for c in sat_data_2018:\n",
    "    \n",
    "    print('{}: min - {}, max - {}'.format(c, sat_scores_2018[c].min(), sat_scores_2018[c].max()))"
   ]
  },
  {
   "cell_type": "code",
   "execution_count": 24,
   "metadata": {},
   "outputs": [
    {
     "name": "stdout",
     "output_type": "stream",
     "text": [
      "The mimimum and maximum possible values of SAT test and subtests for 2018 are:\n",
      "act_part_2018: min - 0.07, max - 1.0\n",
      "act_comp_2018: min - 17.7, max - 25.6\n"
     ]
    },
    {
     "data": {
      "text/html": [
       "<div>\n",
       "<style scoped>\n",
       "    .dataframe tbody tr th:only-of-type {\n",
       "        vertical-align: middle;\n",
       "    }\n",
       "\n",
       "    .dataframe tbody tr th {\n",
       "        vertical-align: top;\n",
       "    }\n",
       "\n",
       "    .dataframe thead th {\n",
       "        text-align: right;\n",
       "    }\n",
       "</style>\n",
       "<table border=\"1\" class=\"dataframe\">\n",
       "  <thead>\n",
       "    <tr style=\"text-align: right;\">\n",
       "      <th></th>\n",
       "      <th>state</th>\n",
       "      <th>act_part_2018</th>\n",
       "      <th>act_comp_2018</th>\n",
       "      <th>sat_part_2018</th>\n",
       "      <th>sat_read_2018</th>\n",
       "      <th>sat_math_2018</th>\n",
       "      <th>sat_total_2018</th>\n",
       "    </tr>\n",
       "  </thead>\n",
       "  <tbody>\n",
       "    <tr>\n",
       "      <th>0</th>\n",
       "      <td>Alabama</td>\n",
       "      <td>1.00</td>\n",
       "      <td>19.1</td>\n",
       "      <td>0.06</td>\n",
       "      <td>595</td>\n",
       "      <td>571</td>\n",
       "      <td>1166</td>\n",
       "    </tr>\n",
       "    <tr>\n",
       "      <th>1</th>\n",
       "      <td>Alaska</td>\n",
       "      <td>0.33</td>\n",
       "      <td>20.8</td>\n",
       "      <td>0.43</td>\n",
       "      <td>562</td>\n",
       "      <td>544</td>\n",
       "      <td>1106</td>\n",
       "    </tr>\n",
       "    <tr>\n",
       "      <th>2</th>\n",
       "      <td>Arizona</td>\n",
       "      <td>0.66</td>\n",
       "      <td>19.2</td>\n",
       "      <td>0.29</td>\n",
       "      <td>577</td>\n",
       "      <td>572</td>\n",
       "      <td>1149</td>\n",
       "    </tr>\n",
       "    <tr>\n",
       "      <th>3</th>\n",
       "      <td>Arkansas</td>\n",
       "      <td>1.00</td>\n",
       "      <td>19.4</td>\n",
       "      <td>0.05</td>\n",
       "      <td>592</td>\n",
       "      <td>576</td>\n",
       "      <td>1169</td>\n",
       "    </tr>\n",
       "    <tr>\n",
       "      <th>4</th>\n",
       "      <td>California</td>\n",
       "      <td>0.27</td>\n",
       "      <td>22.7</td>\n",
       "      <td>0.60</td>\n",
       "      <td>540</td>\n",
       "      <td>536</td>\n",
       "      <td>1076</td>\n",
       "    </tr>\n",
       "  </tbody>\n",
       "</table>\n",
       "</div>"
      ],
      "text/plain": [
       "        state  act_part_2018  act_comp_2018  sat_part_2018  sat_read_2018  \\\n",
       "0     Alabama           1.00           19.1           0.06            595   \n",
       "1      Alaska           0.33           20.8           0.43            562   \n",
       "2     Arizona           0.66           19.2           0.29            577   \n",
       "3    Arkansas           1.00           19.4           0.05            592   \n",
       "4  California           0.27           22.7           0.60            540   \n",
       "\n",
       "   sat_math_2018  sat_total_2018  \n",
       "0            571            1166  \n",
       "1            544            1106  \n",
       "2            572            1149  \n",
       "3            576            1169  \n",
       "4            536            1076  "
      ]
     },
     "execution_count": 24,
     "metadata": {},
     "output_type": "execute_result"
    }
   ],
   "source": [
    "#Here I am looking at the possible min and max values of the ACT 2018\n",
    "\n",
    "print('The mimimum and maximum possible values of SAT test and subtests for 2018 are:')\n",
    "act_data_2018 = ['act_part_2018', 'act_comp_2018']\n",
    "for c in act_data_2018:\n",
    "    \n",
    "    print('{}: min - {}, max - {}'.format(c, act_scores_2018[c].min(), act_scores_2018[c].max()))\n",
    "    \n",
    "#Let's just also merge the ACT and SAT data for 2018\n",
    "\n",
    "act_sat_merge_2018 = pd.merge(left=act_scores_2018,right=sat_scores_2018, how = 'outer', \n",
    "                              left_on='state', right_on='state')\n",
    "act_sat_merge_2018.head()"
   ]
  },
  {
   "cell_type": "markdown",
   "metadata": {},
   "source": [
    "#### Combine your 2017 and 2018 data into a single dataframe\n",
    "Joining on state names should work, assuming you formatted all your state names identically. Make sure none of your columns (other than state) have identical names. Do yourself a favor and decide if you're encoding participation rates as floats or integers and standardize this across your datasets.\n",
    "\n",
    "Save the contents of this merged dataframe as `final.csv`.\n",
    "\n",
    "**Use this combined dataframe for the remainder of the project**."
   ]
  },
  {
   "cell_type": "code",
   "execution_count": 25,
   "metadata": {},
   "outputs": [
    {
     "data": {
      "text/html": [
       "<div>\n",
       "<style scoped>\n",
       "    .dataframe tbody tr th:only-of-type {\n",
       "        vertical-align: middle;\n",
       "    }\n",
       "\n",
       "    .dataframe tbody tr th {\n",
       "        vertical-align: top;\n",
       "    }\n",
       "\n",
       "    .dataframe thead th {\n",
       "        text-align: right;\n",
       "    }\n",
       "</style>\n",
       "<table border=\"1\" class=\"dataframe\">\n",
       "  <thead>\n",
       "    <tr style=\"text-align: right;\">\n",
       "      <th></th>\n",
       "      <th>state</th>\n",
       "      <th>act_part_2017</th>\n",
       "      <th>act_eng_2017</th>\n",
       "      <th>act_math_2017</th>\n",
       "      <th>act_read_2017</th>\n",
       "      <th>act_science_2017</th>\n",
       "      <th>act_comp_2017</th>\n",
       "      <th>sat_part_2017</th>\n",
       "      <th>sat_read_2017</th>\n",
       "      <th>sat_math_2017</th>\n",
       "      <th>sat_total_2017</th>\n",
       "      <th>act_part_2018</th>\n",
       "      <th>act_comp_2018</th>\n",
       "      <th>sat_part_2018</th>\n",
       "      <th>sat_read_2018</th>\n",
       "      <th>sat_math_2018</th>\n",
       "      <th>sat_total_2018</th>\n",
       "    </tr>\n",
       "  </thead>\n",
       "  <tbody>\n",
       "    <tr>\n",
       "      <th>0</th>\n",
       "      <td>Alabama</td>\n",
       "      <td>1.00</td>\n",
       "      <td>18.9</td>\n",
       "      <td>18.4</td>\n",
       "      <td>19.7</td>\n",
       "      <td>19.4</td>\n",
       "      <td>19.2</td>\n",
       "      <td>0.05</td>\n",
       "      <td>593</td>\n",
       "      <td>572</td>\n",
       "      <td>1165</td>\n",
       "      <td>1.00</td>\n",
       "      <td>19.1</td>\n",
       "      <td>0.06</td>\n",
       "      <td>595</td>\n",
       "      <td>571</td>\n",
       "      <td>1166</td>\n",
       "    </tr>\n",
       "    <tr>\n",
       "      <th>1</th>\n",
       "      <td>Alaska</td>\n",
       "      <td>0.65</td>\n",
       "      <td>18.7</td>\n",
       "      <td>19.8</td>\n",
       "      <td>20.4</td>\n",
       "      <td>19.9</td>\n",
       "      <td>19.8</td>\n",
       "      <td>0.38</td>\n",
       "      <td>547</td>\n",
       "      <td>533</td>\n",
       "      <td>1080</td>\n",
       "      <td>0.33</td>\n",
       "      <td>20.8</td>\n",
       "      <td>0.43</td>\n",
       "      <td>562</td>\n",
       "      <td>544</td>\n",
       "      <td>1106</td>\n",
       "    </tr>\n",
       "    <tr>\n",
       "      <th>2</th>\n",
       "      <td>Arizona</td>\n",
       "      <td>0.62</td>\n",
       "      <td>18.6</td>\n",
       "      <td>19.8</td>\n",
       "      <td>20.1</td>\n",
       "      <td>19.8</td>\n",
       "      <td>19.7</td>\n",
       "      <td>0.30</td>\n",
       "      <td>563</td>\n",
       "      <td>553</td>\n",
       "      <td>1116</td>\n",
       "      <td>0.66</td>\n",
       "      <td>19.2</td>\n",
       "      <td>0.29</td>\n",
       "      <td>577</td>\n",
       "      <td>572</td>\n",
       "      <td>1149</td>\n",
       "    </tr>\n",
       "    <tr>\n",
       "      <th>3</th>\n",
       "      <td>Arkansas</td>\n",
       "      <td>1.00</td>\n",
       "      <td>18.9</td>\n",
       "      <td>19.0</td>\n",
       "      <td>19.7</td>\n",
       "      <td>19.5</td>\n",
       "      <td>19.4</td>\n",
       "      <td>0.03</td>\n",
       "      <td>614</td>\n",
       "      <td>594</td>\n",
       "      <td>1208</td>\n",
       "      <td>1.00</td>\n",
       "      <td>19.4</td>\n",
       "      <td>0.05</td>\n",
       "      <td>592</td>\n",
       "      <td>576</td>\n",
       "      <td>1169</td>\n",
       "    </tr>\n",
       "    <tr>\n",
       "      <th>4</th>\n",
       "      <td>California</td>\n",
       "      <td>0.31</td>\n",
       "      <td>22.5</td>\n",
       "      <td>22.7</td>\n",
       "      <td>23.1</td>\n",
       "      <td>22.2</td>\n",
       "      <td>22.8</td>\n",
       "      <td>0.53</td>\n",
       "      <td>531</td>\n",
       "      <td>524</td>\n",
       "      <td>1055</td>\n",
       "      <td>0.27</td>\n",
       "      <td>22.7</td>\n",
       "      <td>0.60</td>\n",
       "      <td>540</td>\n",
       "      <td>536</td>\n",
       "      <td>1076</td>\n",
       "    </tr>\n",
       "  </tbody>\n",
       "</table>\n",
       "</div>"
      ],
      "text/plain": [
       "        state  act_part_2017  act_eng_2017  act_math_2017  act_read_2017  \\\n",
       "0     Alabama           1.00          18.9           18.4           19.7   \n",
       "1      Alaska           0.65          18.7           19.8           20.4   \n",
       "2     Arizona           0.62          18.6           19.8           20.1   \n",
       "3    Arkansas           1.00          18.9           19.0           19.7   \n",
       "4  California           0.31          22.5           22.7           23.1   \n",
       "\n",
       "   act_science_2017  act_comp_2017  sat_part_2017  sat_read_2017  \\\n",
       "0              19.4           19.2           0.05            593   \n",
       "1              19.9           19.8           0.38            547   \n",
       "2              19.8           19.7           0.30            563   \n",
       "3              19.5           19.4           0.03            614   \n",
       "4              22.2           22.8           0.53            531   \n",
       "\n",
       "   sat_math_2017  sat_total_2017  act_part_2018  act_comp_2018  sat_part_2018  \\\n",
       "0            572            1165           1.00           19.1           0.06   \n",
       "1            533            1080           0.33           20.8           0.43   \n",
       "2            553            1116           0.66           19.2           0.29   \n",
       "3            594            1208           1.00           19.4           0.05   \n",
       "4            524            1055           0.27           22.7           0.60   \n",
       "\n",
       "   sat_read_2018  sat_math_2018  sat_total_2018  \n",
       "0            595            571            1166  \n",
       "1            562            544            1106  \n",
       "2            577            572            1149  \n",
       "3            592            576            1169  \n",
       "4            540            536            1076  "
      ]
     },
     "execution_count": 25,
     "metadata": {},
     "output_type": "execute_result"
    }
   ],
   "source": [
    "#Merging the combined 2017 data with combined 2018 data\n",
    "\n",
    "test_scores_2017_2018 = pd.merge(left=act_sat_merge_2017,right=act_sat_merge_2018, how = 'outer', \n",
    "                              left_on='state', right_on='state')\n",
    "test_scores_2017_2018.head()\n"
   ]
  },
  {
   "cell_type": "code",
   "execution_count": 26,
   "metadata": {},
   "outputs": [],
   "source": [
    "test_scores_2017_2018.to_csv('../data/final.csv')\n"
   ]
  },
  {
   "cell_type": "markdown",
   "metadata": {},
   "source": [
    "Below is an update Data Dictionary. "
   ]
  },
  {
   "cell_type": "markdown",
   "metadata": {},
   "source": [
    "|Feature|Type|Dataset|Description|\n",
    "|---|---|---|---|\n",
    "|**state**|object|act_scores_2017/sat_scores_2017|Gives the name of the USA State.|\n",
    "|**sat_part_2017**|float|sat_scores_2017|Participation in the test for 2017(percentage). Given in fraction. SAT|\n",
    "|**sat_read_2017**|int|sat_scores_2017|Evidence-Based Reading and Writing average scores for SAT in 2017|\n",
    "|**sat_math_2017**|int|sat_scores_2017|Average Math scores for SAT in 2017|\n",
    "|**sat_total_2017**|int|sat_scores_2017|Total average SAT scores in 2017|\n",
    "|**act_part_2017**|float|act_scores_2017|Participation in the test for 2017(percentage). Given in fraction. ACT|\n",
    "|**act_eng_2017**|float|act_scores_2017|Average English scores for ACT in 2017|\n",
    "|**act_math_2017**|float|act_scores_2017|Average Math scores for ACT in 2017|\n",
    "|**act_read_2017**|float|act_scores_2017|Average Reading scores for ACT in 2017|\n",
    "|**act_science_2017**|float|act_scores_2017|Average Science scores for ACT in 2017|\n",
    "|**act_comp_2017**|float|act_scores_2017|Composite scores for ACT in 2017. Composite is the average of English, Math, Reading and Science scores.| \n",
    "|**sat_part_2018**|float|sat_scores_2018|Participation in the test for 2018(percentage). Given in fraction. SAT|\n",
    "|**sat_read_2018**|int|sat_scores_2018|Evidence-Based Reading and Writing average scores for SAT in 2018|\n",
    "|**sat_math_2018**|int|sat_scores_2018|Average Math scores for SAT in 2018|\n",
    "|**sat_total_2018**|int|sat_scores_2018|Total average SAT scores in 2018|\n",
    "|**act_part_2018**|float|act_scores_2018|Participation in the test for 2018(percentage). Given in fraction. ACT|\n",
    "|**act_comp_2018**|float|act_scores_2018|Composite scores for ACT in 2018. Composite is the average of English, Math, Reading and Science scores.| "
   ]
  },
  {
   "cell_type": "markdown",
   "metadata": {},
   "source": [
    "## Exploratory Data Analysis\n",
    "\n",
    "\n",
    "### Summary Statistics\n",
    "Transpose the output of pandas `describe` method to create a quick overview of each numeric feature."
   ]
  },
  {
   "cell_type": "code",
   "execution_count": 27,
   "metadata": {},
   "outputs": [
    {
     "data": {
      "text/html": [
       "<div>\n",
       "<style scoped>\n",
       "    .dataframe tbody tr th:only-of-type {\n",
       "        vertical-align: middle;\n",
       "    }\n",
       "\n",
       "    .dataframe tbody tr th {\n",
       "        vertical-align: top;\n",
       "    }\n",
       "\n",
       "    .dataframe thead th {\n",
       "        text-align: right;\n",
       "    }\n",
       "</style>\n",
       "<table border=\"1\" class=\"dataframe\">\n",
       "  <thead>\n",
       "    <tr style=\"text-align: right;\">\n",
       "      <th></th>\n",
       "      <th>count</th>\n",
       "      <th>mean</th>\n",
       "      <th>std</th>\n",
       "      <th>min</th>\n",
       "      <th>25%</th>\n",
       "      <th>50%</th>\n",
       "      <th>75%</th>\n",
       "      <th>max</th>\n",
       "    </tr>\n",
       "  </thead>\n",
       "  <tbody>\n",
       "    <tr>\n",
       "      <th>act_part_2017</th>\n",
       "      <td>51.0</td>\n",
       "      <td>0.652549</td>\n",
       "      <td>0.321408</td>\n",
       "      <td>0.08</td>\n",
       "      <td>0.310</td>\n",
       "      <td>0.69</td>\n",
       "      <td>1.000</td>\n",
       "      <td>1.0</td>\n",
       "    </tr>\n",
       "    <tr>\n",
       "      <th>act_eng_2017</th>\n",
       "      <td>51.0</td>\n",
       "      <td>20.931373</td>\n",
       "      <td>2.353677</td>\n",
       "      <td>16.30</td>\n",
       "      <td>19.000</td>\n",
       "      <td>20.70</td>\n",
       "      <td>23.300</td>\n",
       "      <td>25.5</td>\n",
       "    </tr>\n",
       "    <tr>\n",
       "      <th>act_math_2017</th>\n",
       "      <td>51.0</td>\n",
       "      <td>21.182353</td>\n",
       "      <td>1.981989</td>\n",
       "      <td>18.00</td>\n",
       "      <td>19.400</td>\n",
       "      <td>20.90</td>\n",
       "      <td>23.100</td>\n",
       "      <td>25.3</td>\n",
       "    </tr>\n",
       "    <tr>\n",
       "      <th>act_read_2017</th>\n",
       "      <td>51.0</td>\n",
       "      <td>22.013725</td>\n",
       "      <td>2.067271</td>\n",
       "      <td>18.10</td>\n",
       "      <td>20.450</td>\n",
       "      <td>21.80</td>\n",
       "      <td>24.150</td>\n",
       "      <td>26.0</td>\n",
       "    </tr>\n",
       "    <tr>\n",
       "      <th>act_science_2017</th>\n",
       "      <td>51.0</td>\n",
       "      <td>21.041176</td>\n",
       "      <td>3.182463</td>\n",
       "      <td>2.30</td>\n",
       "      <td>19.900</td>\n",
       "      <td>21.30</td>\n",
       "      <td>22.750</td>\n",
       "      <td>24.9</td>\n",
       "    </tr>\n",
       "    <tr>\n",
       "      <th>act_comp_2017</th>\n",
       "      <td>51.0</td>\n",
       "      <td>21.519608</td>\n",
       "      <td>2.020695</td>\n",
       "      <td>17.80</td>\n",
       "      <td>19.800</td>\n",
       "      <td>21.40</td>\n",
       "      <td>23.600</td>\n",
       "      <td>25.5</td>\n",
       "    </tr>\n",
       "    <tr>\n",
       "      <th>sat_part_2017</th>\n",
       "      <td>51.0</td>\n",
       "      <td>0.398039</td>\n",
       "      <td>0.352766</td>\n",
       "      <td>0.02</td>\n",
       "      <td>0.040</td>\n",
       "      <td>0.38</td>\n",
       "      <td>0.660</td>\n",
       "      <td>1.0</td>\n",
       "    </tr>\n",
       "    <tr>\n",
       "      <th>sat_read_2017</th>\n",
       "      <td>51.0</td>\n",
       "      <td>569.117647</td>\n",
       "      <td>45.666901</td>\n",
       "      <td>482.00</td>\n",
       "      <td>533.500</td>\n",
       "      <td>559.00</td>\n",
       "      <td>613.000</td>\n",
       "      <td>644.0</td>\n",
       "    </tr>\n",
       "    <tr>\n",
       "      <th>sat_math_2017</th>\n",
       "      <td>51.0</td>\n",
       "      <td>547.627451</td>\n",
       "      <td>84.909119</td>\n",
       "      <td>52.00</td>\n",
       "      <td>522.000</td>\n",
       "      <td>548.00</td>\n",
       "      <td>599.000</td>\n",
       "      <td>651.0</td>\n",
       "    </tr>\n",
       "    <tr>\n",
       "      <th>sat_total_2017</th>\n",
       "      <td>51.0</td>\n",
       "      <td>1126.098039</td>\n",
       "      <td>92.494812</td>\n",
       "      <td>950.00</td>\n",
       "      <td>1055.500</td>\n",
       "      <td>1107.00</td>\n",
       "      <td>1212.000</td>\n",
       "      <td>1295.0</td>\n",
       "    </tr>\n",
       "    <tr>\n",
       "      <th>act_part_2018</th>\n",
       "      <td>51.0</td>\n",
       "      <td>0.617255</td>\n",
       "      <td>0.340371</td>\n",
       "      <td>0.07</td>\n",
       "      <td>0.285</td>\n",
       "      <td>0.66</td>\n",
       "      <td>1.000</td>\n",
       "      <td>1.0</td>\n",
       "    </tr>\n",
       "    <tr>\n",
       "      <th>act_comp_2018</th>\n",
       "      <td>51.0</td>\n",
       "      <td>21.496078</td>\n",
       "      <td>2.111583</td>\n",
       "      <td>17.70</td>\n",
       "      <td>19.950</td>\n",
       "      <td>21.30</td>\n",
       "      <td>23.650</td>\n",
       "      <td>25.6</td>\n",
       "    </tr>\n",
       "    <tr>\n",
       "      <th>sat_part_2018</th>\n",
       "      <td>51.0</td>\n",
       "      <td>0.457451</td>\n",
       "      <td>0.373143</td>\n",
       "      <td>0.02</td>\n",
       "      <td>0.045</td>\n",
       "      <td>0.52</td>\n",
       "      <td>0.775</td>\n",
       "      <td>1.0</td>\n",
       "    </tr>\n",
       "    <tr>\n",
       "      <th>sat_read_2018</th>\n",
       "      <td>51.0</td>\n",
       "      <td>563.686275</td>\n",
       "      <td>47.502627</td>\n",
       "      <td>480.00</td>\n",
       "      <td>534.500</td>\n",
       "      <td>552.00</td>\n",
       "      <td>610.500</td>\n",
       "      <td>643.0</td>\n",
       "    </tr>\n",
       "    <tr>\n",
       "      <th>sat_math_2018</th>\n",
       "      <td>51.0</td>\n",
       "      <td>556.235294</td>\n",
       "      <td>47.772623</td>\n",
       "      <td>480.00</td>\n",
       "      <td>522.500</td>\n",
       "      <td>544.00</td>\n",
       "      <td>593.500</td>\n",
       "      <td>655.0</td>\n",
       "    </tr>\n",
       "    <tr>\n",
       "      <th>sat_total_2018</th>\n",
       "      <td>51.0</td>\n",
       "      <td>1120.019608</td>\n",
       "      <td>94.155083</td>\n",
       "      <td>977.00</td>\n",
       "      <td>1057.500</td>\n",
       "      <td>1098.00</td>\n",
       "      <td>1204.000</td>\n",
       "      <td>1298.0</td>\n",
       "    </tr>\n",
       "  </tbody>\n",
       "</table>\n",
       "</div>"
      ],
      "text/plain": [
       "                  count         mean        std     min       25%      50%  \\\n",
       "act_part_2017      51.0     0.652549   0.321408    0.08     0.310     0.69   \n",
       "act_eng_2017       51.0    20.931373   2.353677   16.30    19.000    20.70   \n",
       "act_math_2017      51.0    21.182353   1.981989   18.00    19.400    20.90   \n",
       "act_read_2017      51.0    22.013725   2.067271   18.10    20.450    21.80   \n",
       "act_science_2017   51.0    21.041176   3.182463    2.30    19.900    21.30   \n",
       "act_comp_2017      51.0    21.519608   2.020695   17.80    19.800    21.40   \n",
       "sat_part_2017      51.0     0.398039   0.352766    0.02     0.040     0.38   \n",
       "sat_read_2017      51.0   569.117647  45.666901  482.00   533.500   559.00   \n",
       "sat_math_2017      51.0   547.627451  84.909119   52.00   522.000   548.00   \n",
       "sat_total_2017     51.0  1126.098039  92.494812  950.00  1055.500  1107.00   \n",
       "act_part_2018      51.0     0.617255   0.340371    0.07     0.285     0.66   \n",
       "act_comp_2018      51.0    21.496078   2.111583   17.70    19.950    21.30   \n",
       "sat_part_2018      51.0     0.457451   0.373143    0.02     0.045     0.52   \n",
       "sat_read_2018      51.0   563.686275  47.502627  480.00   534.500   552.00   \n",
       "sat_math_2018      51.0   556.235294  47.772623  480.00   522.500   544.00   \n",
       "sat_total_2018     51.0  1120.019608  94.155083  977.00  1057.500  1098.00   \n",
       "\n",
       "                       75%     max  \n",
       "act_part_2017        1.000     1.0  \n",
       "act_eng_2017        23.300    25.5  \n",
       "act_math_2017       23.100    25.3  \n",
       "act_read_2017       24.150    26.0  \n",
       "act_science_2017    22.750    24.9  \n",
       "act_comp_2017       23.600    25.5  \n",
       "sat_part_2017        0.660     1.0  \n",
       "sat_read_2017      613.000   644.0  \n",
       "sat_math_2017      599.000   651.0  \n",
       "sat_total_2017    1212.000  1295.0  \n",
       "act_part_2018        1.000     1.0  \n",
       "act_comp_2018       23.650    25.6  \n",
       "sat_part_2018        0.775     1.0  \n",
       "sat_read_2018      610.500   643.0  \n",
       "sat_math_2018      593.500   655.0  \n",
       "sat_total_2018    1204.000  1298.0  "
      ]
     },
     "execution_count": 27,
     "metadata": {},
     "output_type": "execute_result"
    }
   ],
   "source": [
    "test_scores_2017_2018.describe().T"
   ]
  },
  {
   "cell_type": "markdown",
   "metadata": {},
   "source": [
    "#### Manually calculate standard deviation\n",
    "\n",
    "$$\\sigma = \\sqrt{\\frac{1}{n}\\sum_{i=1}^n(x_i - \\mu)^2}$$\n",
    "\n",
    "- Write a function to calculate standard deviation using the formula above"
   ]
  },
  {
   "cell_type": "code",
   "execution_count": 28,
   "metadata": {},
   "outputs": [
    {
     "data": {
      "text/plain": [
       "0.3182417575123181"
      ]
     },
     "execution_count": 28,
     "metadata": {},
     "output_type": "execute_result"
    }
   ],
   "source": [
    "def standard_deviation(x):\n",
    "    #since we divide by n which is the length of the array, we would like to avoid dividing by zero\n",
    "    if len(x) < 1:\n",
    "        \n",
    "        return 0\n",
    "    #first we have to calculate the mean\n",
    "    mean = x.mean()\n",
    "    \n",
    "    #Now we need to sum the squares of x_i - mean\n",
    "    sums = 0\n",
    "    for i in x:\n",
    "        subtract = i - mean\n",
    "        squared = subtract ** 2\n",
    "        sums +=squared\n",
    "    \n",
    "    variance = sums / (len(x)) \n",
    "    return variance**0.5\n",
    "\n",
    "test=test_scores_2017_2018['act_part_2017']\n",
    "standard_deviation(test)"
   ]
  },
  {
   "cell_type": "markdown",
   "metadata": {},
   "source": [
    "- Use a **dictionary comprehension** to apply your standard deviation function to each numeric column in the dataframe.  **No loops**  \n",
    "- Assign the output to variable `sd` as a dictionary where: \n",
    "    - Each column name is now a key \n",
    "    - That standard deviation of the column is the value \n",
    "     \n",
    "*Example Output :* `{'ACT_Math': 120, 'ACT_Reading': 120, ...}`"
   ]
  },
  {
   "cell_type": "code",
   "execution_count": 29,
   "metadata": {},
   "outputs": [
    {
     "data": {
      "text/plain": [
       "{'act_part_2017': 0.3182417575123181,\n",
       " 'act_eng_2017': 2.3304876369363363,\n",
       " 'act_math_2017': 1.9624620273436781,\n",
       " 'act_read_2017': 2.0469029314842646,\n",
       " 'act_science_2017': 3.151107895464408,\n",
       " 'act_comp_2017': 2.000786081581989,\n",
       " 'sat_part_2017': 0.3492907076664507,\n",
       " 'sat_read_2017': 45.21697020437866,\n",
       " 'sat_math_2017': 84.07255521608297,\n",
       " 'sat_total_2017': 91.58351056778743,\n",
       " 'act_part_2018': 0.33701735820410317,\n",
       " 'act_comp_2018': 2.090779082141178,\n",
       " 'sat_part_2018': 0.3694661922353942,\n",
       " 'sat_read_2018': 47.03460978357609,\n",
       " 'sat_math_2018': 47.30194550378352,\n",
       " 'sat_total_2018': 93.22742384464433}"
      ]
     },
     "execution_count": 29,
     "metadata": {},
     "output_type": "execute_result"
    }
   ],
   "source": [
    "sd = {col:standard_deviation(test_scores_2017_2018[col]) for col in test_scores_2017_2018.columns if col !='state'}\n",
    "sd"
   ]
  },
  {
   "cell_type": "markdown",
   "metadata": {},
   "source": [
    "Do your manually calculated standard deviations match up with the output from pandas `describe`? What about numpy's `std` method?"
   ]
  },
  {
   "cell_type": "code",
   "execution_count": 30,
   "metadata": {},
   "outputs": [
    {
     "data": {
      "text/plain": [
       "act_part_2017        0.318242\n",
       "act_eng_2017         2.330488\n",
       "act_math_2017        1.962462\n",
       "act_read_2017        2.046903\n",
       "act_science_2017     3.151108\n",
       "act_comp_2017        2.000786\n",
       "sat_part_2017        0.349291\n",
       "sat_read_2017       45.216970\n",
       "sat_math_2017       84.072555\n",
       "sat_total_2017      91.583511\n",
       "act_part_2018        0.337017\n",
       "act_comp_2018        2.090779\n",
       "sat_part_2018        0.369466\n",
       "sat_read_2018       47.034610\n",
       "sat_math_2018       47.301946\n",
       "sat_total_2018      93.227424\n",
       "dtype: float64"
      ]
     },
     "execution_count": 30,
     "metadata": {},
     "output_type": "execute_result"
    }
   ],
   "source": [
    "numpy_std = np.std(test_scores_2017_2018)\n",
    "numpy_std"
   ]
  },
  {
   "cell_type": "markdown",
   "metadata": {},
   "source": [
    "The answers that were calculated from my manual formula do not exactly match up to the answers calculated by the .describe method. This is probably due to the fact that in my manual formula I use the formula for population standard deviation that uses (1/n) instead of the sample standard deviation that devided the sum of squares by 1/(n-1)\n",
    "\n",
    "It seems that the numpy equation does the same thing. It uses the population standard deviation formula, since my manual answers and the numpy answers roughly match. "
   ]
  },
  {
   "cell_type": "markdown",
   "metadata": {},
   "source": [
    "#### Investigate trends in the data\n",
    "Using sorting and/or masking (along with the `.head` method to not print our entire dataframe), consider the following questions:\n",
    "\n",
    "- Which states have the highest and lowest participation rates for the:\n",
    "    - 2017 SAT?\n",
    "    - 2018 SAT?\n",
    "    - 2017 ACT?\n",
    "    - 2018 ACT?\n",
    "- Which states have the highest and lowest mean total/composite scores for the:\n",
    "    - 2017 SAT?\n",
    "    - 2018 SAT?\n",
    "    - 2017 ACT?\n",
    "    - 2018 ACT?\n",
    "- Do any states with 100% participation on a given test have a rate change year-to-year?\n",
    "- Do any states show have >50% participation on *both* tests either year?\n",
    "\n",
    "Based on what you've just observed, have you identified any states that you're especially interested in? **Make a note of these and state *why* you think they're interesting**.\n",
    "\n",
    "**You should comment on your findings at each step in a markdown cell below your code block**. Make sure you include at least one example of sorting your dataframe by a column, and one example of using boolean filtering (i.e., masking) to select a subset of the dataframe."
   ]
  },
  {
   "cell_type": "code",
   "execution_count": null,
   "metadata": {},
   "outputs": [],
   "source": []
  },
  {
   "cell_type": "code",
   "execution_count": 31,
   "metadata": {},
   "outputs": [
    {
     "name": "stdout",
     "output_type": "stream",
     "text": [
      "           state  sat_part_2017\n",
      "34  North Dakota           0.02\n",
      "24   Mississippi           0.02\n",
      "15          Iowa           0.02\n",
      "25      Missouri           0.03\n",
      "44          Utah           0.03\n",
      "                   state  sat_part_2017\n",
      "29         New Hampshire           0.96\n",
      "22              Michigan           1.00\n",
      "8   District of Columbia           1.00\n",
      "7               Delaware           1.00\n",
      "6            Connecticut           1.00\n"
     ]
    }
   ],
   "source": [
    "print(test_scores_2017_2018.loc[:,['state','sat_part_2017']].sort_values(by='sat_part_2017').head())\n",
    "print(test_scores_2017_2018.loc[:,['state','sat_part_2017']].sort_values(by='sat_part_2017').tail())"
   ]
  },
  {
   "cell_type": "markdown",
   "metadata": {},
   "source": [
    "For the 2017 SAT data, based on the head() and tail() method above, the states with the lowest participation are North Dakota, Mississippi and Iowa with a 2% participation. The highest participation, 100% are noticed in Michigan, District of Columbia, Delaware and Connecticut. "
   ]
  },
  {
   "cell_type": "code",
   "execution_count": 32,
   "metadata": {},
   "outputs": [
    {
     "name": "stdout",
     "output_type": "stream",
     "text": [
      "           state  sat_part_2018\n",
      "34  North Dakota           0.02\n",
      "50       Wyoming           0.03\n",
      "41  South Dakota           0.03\n",
      "27      Nebraska           0.03\n",
      "49     Wisconsin           0.03\n",
      "                   state  sat_part_2018\n",
      "30            New Jersey           0.82\n",
      "8   District of Columbia           0.92\n",
      "29         New Hampshire           0.96\n",
      "39          Rhode Island           0.97\n",
      "19                 Maine           0.99\n",
      "13              Illinois           0.99\n",
      "5               Colorado           1.00\n",
      "6            Connecticut           1.00\n",
      "7               Delaware           1.00\n",
      "22              Michigan           1.00\n",
      "12                 Idaho           1.00\n"
     ]
    }
   ],
   "source": [
    "print(test_scores_2017_2018.loc[:,['state','sat_part_2018']].sort_values(by='sat_part_2018').head())\n",
    "print(test_scores_2017_2018.loc[:,['state','sat_part_2018']].sort_values(by='sat_part_2018').tail(11))"
   ]
  },
  {
   "cell_type": "markdown",
   "metadata": {},
   "source": [
    "Here North Dakota wins the lowest participation rate of 2% for the 2018 SAT data. The highest participation rate of 100% is observed in Colorado, Connecticut, Delaware, Michigan and Idaho in 2018. "
   ]
  },
  {
   "cell_type": "code",
   "execution_count": 33,
   "metadata": {},
   "outputs": [
    {
     "name": "stdout",
     "output_type": "stream",
     "text": [
      "            state  act_part_2017\n",
      "19          Maine           0.08\n",
      "29  New Hampshire           0.18\n",
      "7        Delaware           0.18\n",
      "39   Rhode Island           0.21\n",
      "38   Pennsylvania           0.23\n",
      "             state  act_part_2017\n",
      "11          Hawaii           0.90\n",
      "13        Illinois           0.93\n",
      "34    North Dakota           0.98\n",
      "40  South Carolina           1.00\n",
      "44            Utah           1.00\n",
      "42       Tennessee           1.00\n",
      "0          Alabama           1.00\n",
      "25        Missouri           1.00\n",
      "33  North Carolina           1.00\n",
      "28          Nevada           1.00\n",
      "26         Montana           1.00\n",
      "49       Wisconsin           1.00\n",
      "24     Mississippi           1.00\n",
      "23       Minnesota           1.00\n",
      "18       Louisiana           1.00\n",
      "17        Kentucky           1.00\n",
      "5         Colorado           1.00\n",
      "3         Arkansas           1.00\n",
      "36        Oklahoma           1.00\n",
      "50         Wyoming           1.00\n"
     ]
    }
   ],
   "source": [
    "print(test_scores_2017_2018.loc[:,['state','act_part_2017']].sort_values(by='act_part_2017').head())\n",
    "print(test_scores_2017_2018.loc[:,['state','act_part_2017']].sort_values(by='act_part_2017').tail(20))"
   ]
  },
  {
   "cell_type": "markdown",
   "metadata": {},
   "source": [
    "For the ACT data of 2017 the lowest participation rate was observed in Maine. For the highest participation rate there was 14 states (you can see above, displaid with the .tail() method) with a 100% rate. "
   ]
  },
  {
   "cell_type": "code",
   "execution_count": 34,
   "metadata": {},
   "outputs": [
    {
     "name": "stdout",
     "output_type": "stream",
     "text": [
      "            state  act_part_2018\n",
      "19          Maine           0.07\n",
      "39   Rhode Island           0.15\n",
      "29  New Hampshire           0.16\n",
      "7        Delaware           0.17\n",
      "38   Pennsylvania           0.20\n",
      "             state  act_part_2018\n",
      "11          Hawaii           0.89\n",
      "34    North Dakota           0.98\n",
      "23       Minnesota           0.99\n",
      "42       Tennessee           1.00\n",
      "44            Utah           1.00\n",
      "40  South Carolina           1.00\n",
      "0          Alabama           1.00\n",
      "25        Missouri           1.00\n",
      "35            Ohio           1.00\n",
      "33  North Carolina           1.00\n",
      "28          Nevada           1.00\n",
      "27        Nebraska           1.00\n",
      "26         Montana           1.00\n",
      "49       Wisconsin           1.00\n",
      "24     Mississippi           1.00\n",
      "18       Louisiana           1.00\n",
      "17        Kentucky           1.00\n",
      "3         Arkansas           1.00\n",
      "36        Oklahoma           1.00\n",
      "50         Wyoming           1.00\n"
     ]
    }
   ],
   "source": [
    "print(test_scores_2017_2018.loc[:,['state','act_part_2018']].sort_values(by='act_part_2018').head())\n",
    "print(test_scores_2017_2018.loc[:,['state','act_part_2018']].sort_values(by='act_part_2018').tail(20))"
   ]
  },
  {
   "cell_type": "markdown",
   "metadata": {},
   "source": [
    "It looks that in 2018, the ACT scores for Maine have stayed in the lowest participation rate, actually going down from 8 % to 7%. For the highest participation in 2018, the number of 100% participation rates have gone up to 17 states. "
   ]
  },
  {
   "cell_type": "code",
   "execution_count": 35,
   "metadata": {},
   "outputs": [
    {
     "name": "stdout",
     "output_type": "stream",
     "text": [
      "                   state  sat_total_2017\n",
      "8   District of Columbia             950\n",
      "7               Delaware             996\n",
      "12                 Idaho            1005\n",
      "22              Michigan            1005\n",
      "19                 Maine            1012\n",
      "        state  sat_total_2017\n",
      "16     Kansas            1260\n",
      "25   Missouri            1271\n",
      "15       Iowa            1275\n",
      "49  Wisconsin            1291\n",
      "23  Minnesota            1295\n"
     ]
    }
   ],
   "source": [
    "print(test_scores_2017_2018.loc[:,['state','sat_total_2017']].sort_values(by='sat_total_2017').head())\n",
    "print(test_scores_2017_2018.loc[:,['state','sat_total_2017']].sort_values(by='sat_total_2017').tail())"
   ]
  },
  {
   "cell_type": "markdown",
   "metadata": {},
   "source": [
    "Now we are taking a look at the average SAT scores for 2017. District of Columbia has the minimum total average score at 950 points. Minnesota has the highest score of 1295. "
   ]
  },
  {
   "cell_type": "code",
   "execution_count": 36,
   "metadata": {},
   "outputs": [
    {
     "name": "stdout",
     "output_type": "stream",
     "text": [
      "                   state  sat_total_2018\n",
      "8   District of Columbia             977\n",
      "7               Delaware             998\n",
      "48         West Virginia             999\n",
      "12                 Idaho            1001\n",
      "44                  Utah            1010\n",
      "           state  sat_total_2018\n",
      "16        Kansas            1265\n",
      "15          Iowa            1265\n",
      "34  North Dakota            1283\n",
      "49     Wisconsin            1294\n",
      "23     Minnesota            1298\n"
     ]
    }
   ],
   "source": [
    "print(test_scores_2017_2018.loc[:,['state','sat_total_2018']].sort_values(by='sat_total_2018').head())\n",
    "print(test_scores_2017_2018.loc[:,['state','sat_total_2018']].sort_values(by='sat_total_2018').tail())"
   ]
  },
  {
   "cell_type": "markdown",
   "metadata": {},
   "source": [
    "In 2018, District of Columbia still had the lowest score. However, it did go up from 950 points to 977.\n",
    "The highest score was still in Minnesota. They too went up from 1295 to 1298."
   ]
  },
  {
   "cell_type": "code",
   "execution_count": 37,
   "metadata": {},
   "outputs": [
    {
     "name": "stdout",
     "output_type": "stream",
     "text": [
      "             state  act_comp_2017\n",
      "28          Nevada           17.8\n",
      "24     Mississippi           18.6\n",
      "40  South Carolina           18.7\n",
      "11          Hawaii           19.0\n",
      "33  North Carolina           19.1\n",
      "                   state  act_comp_2017\n",
      "8   District of Columbia           24.2\n",
      "19                 Maine           24.3\n",
      "6            Connecticut           25.2\n",
      "21         Massachusetts           25.4\n",
      "29         New Hampshire           25.5\n"
     ]
    }
   ],
   "source": [
    "print(test_scores_2017_2018.loc[:,['state','act_comp_2017']].sort_values(by='act_comp_2017').head())\n",
    "print(test_scores_2017_2018.loc[:,['state','act_comp_2017']].sort_values(by='act_comp_2017').tail())"
   ]
  },
  {
   "cell_type": "markdown",
   "metadata": {},
   "source": [
    "Now let us take a look at the ACT composite data. We can see from the above and below lines of code that Nevada was in the lowest score both 2017 and 2018. In 2017 the score was 17.8 and in 2018 it went down to 17.7.\n",
    "\n",
    "New Hampshire had the highest score in 2017, but it dropped a few points in 2018 and gave way to Connecticut. "
   ]
  },
  {
   "cell_type": "code",
   "execution_count": 38,
   "metadata": {},
   "outputs": [
    {
     "name": "stdout",
     "output_type": "stream",
     "text": [
      "             state  act_comp_2018\n",
      "28          Nevada           17.7\n",
      "40  South Carolina           18.3\n",
      "24     Mississippi           18.6\n",
      "11          Hawaii           18.9\n",
      "0          Alabama           19.1\n",
      "            state  act_comp_2018\n",
      "22       Michigan           24.2\n",
      "32       New York           24.5\n",
      "29  New Hampshire           25.1\n",
      "21  Massachusetts           25.5\n",
      "6     Connecticut           25.6\n"
     ]
    }
   ],
   "source": [
    "print(test_scores_2017_2018.loc[:,['state','act_comp_2018']].sort_values(by='act_comp_2018').head())\n",
    "print(test_scores_2017_2018.loc[:,['state','act_comp_2018']].sort_values(by='act_comp_2018').tail())"
   ]
  },
  {
   "cell_type": "code",
   "execution_count": 39,
   "metadata": {},
   "outputs": [
    {
     "data": {
      "text/html": [
       "<div>\n",
       "<style scoped>\n",
       "    .dataframe tbody tr th:only-of-type {\n",
       "        vertical-align: middle;\n",
       "    }\n",
       "\n",
       "    .dataframe tbody tr th {\n",
       "        vertical-align: top;\n",
       "    }\n",
       "\n",
       "    .dataframe thead th {\n",
       "        text-align: right;\n",
       "    }\n",
       "</style>\n",
       "<table border=\"1\" class=\"dataframe\">\n",
       "  <thead>\n",
       "    <tr style=\"text-align: right;\">\n",
       "      <th></th>\n",
       "      <th>state</th>\n",
       "      <th>sat_part_2017</th>\n",
       "      <th>sat_part_2018</th>\n",
       "      <th>rate_change</th>\n",
       "    </tr>\n",
       "  </thead>\n",
       "  <tbody>\n",
       "    <tr>\n",
       "      <th>5</th>\n",
       "      <td>Colorado</td>\n",
       "      <td>0.11</td>\n",
       "      <td>1.00</td>\n",
       "      <td>-0.89</td>\n",
       "    </tr>\n",
       "    <tr>\n",
       "      <th>6</th>\n",
       "      <td>Connecticut</td>\n",
       "      <td>1.00</td>\n",
       "      <td>1.00</td>\n",
       "      <td>0.00</td>\n",
       "    </tr>\n",
       "    <tr>\n",
       "      <th>7</th>\n",
       "      <td>Delaware</td>\n",
       "      <td>1.00</td>\n",
       "      <td>1.00</td>\n",
       "      <td>0.00</td>\n",
       "    </tr>\n",
       "    <tr>\n",
       "      <th>8</th>\n",
       "      <td>District of Columbia</td>\n",
       "      <td>1.00</td>\n",
       "      <td>0.92</td>\n",
       "      <td>0.08</td>\n",
       "    </tr>\n",
       "    <tr>\n",
       "      <th>12</th>\n",
       "      <td>Idaho</td>\n",
       "      <td>0.93</td>\n",
       "      <td>1.00</td>\n",
       "      <td>-0.07</td>\n",
       "    </tr>\n",
       "    <tr>\n",
       "      <th>22</th>\n",
       "      <td>Michigan</td>\n",
       "      <td>1.00</td>\n",
       "      <td>1.00</td>\n",
       "      <td>0.00</td>\n",
       "    </tr>\n",
       "  </tbody>\n",
       "</table>\n",
       "</div>"
      ],
      "text/plain": [
       "                   state  sat_part_2017  sat_part_2018  rate_change\n",
       "5               Colorado           0.11           1.00        -0.89\n",
       "6            Connecticut           1.00           1.00         0.00\n",
       "7               Delaware           1.00           1.00         0.00\n",
       "8   District of Columbia           1.00           0.92         0.08\n",
       "12                 Idaho           0.93           1.00        -0.07\n",
       "22              Michigan           1.00           1.00         0.00"
      ]
     },
     "execution_count": 39,
     "metadata": {},
     "output_type": "execute_result"
    }
   ],
   "source": [
    "#Do any states with 100% participation on a given test have a rate change year-to-year?\n",
    "#Here I am pulling the state, sat_part_2017 and sat_part_2018 data only from the main dataframe\n",
    "sat_part_2017_2018=test_scores_2017_2018.loc[:, ['state','sat_part_2017', 'sat_part_2018']]\n",
    "#I wanted to calculate the change that happened between 2017 and 2018\n",
    "sat_part_2017_2018['rate_change'] = sat_part_2017_2018['sat_part_2017'] - sat_part_2017_2018['sat_part_2018']\n",
    "#Not I am setting a mask for the 100% participation for years 2017 and 2018\n",
    "sat_2017_100 = sat_part_2017_2018['sat_part_2017'] == 1.00\n",
    "sat_2018_100 = sat_part_2017_2018['sat_part_2018'] == 1.00\n",
    "#I want to see the states that had 100% in 2017 or 100% participation in 2018\n",
    "sat_both_years_100 = sat_part_2017_2018[sat_2017_100 | sat_2018_100]\n",
    "sat_both_years_100"
   ]
  },
  {
   "cell_type": "code",
   "execution_count": 40,
   "metadata": {},
   "outputs": [
    {
     "data": {
      "text/html": [
       "<div>\n",
       "<style scoped>\n",
       "    .dataframe tbody tr th:only-of-type {\n",
       "        vertical-align: middle;\n",
       "    }\n",
       "\n",
       "    .dataframe tbody tr th {\n",
       "        vertical-align: top;\n",
       "    }\n",
       "\n",
       "    .dataframe thead th {\n",
       "        text-align: right;\n",
       "    }\n",
       "</style>\n",
       "<table border=\"1\" class=\"dataframe\">\n",
       "  <thead>\n",
       "    <tr style=\"text-align: right;\">\n",
       "      <th></th>\n",
       "      <th>state</th>\n",
       "      <th>sat_part_2017</th>\n",
       "      <th>sat_part_2018</th>\n",
       "      <th>rate_change</th>\n",
       "    </tr>\n",
       "  </thead>\n",
       "  <tbody>\n",
       "    <tr>\n",
       "      <th>6</th>\n",
       "      <td>Connecticut</td>\n",
       "      <td>1.0</td>\n",
       "      <td>1.0</td>\n",
       "      <td>0.0</td>\n",
       "    </tr>\n",
       "    <tr>\n",
       "      <th>7</th>\n",
       "      <td>Delaware</td>\n",
       "      <td>1.0</td>\n",
       "      <td>1.0</td>\n",
       "      <td>0.0</td>\n",
       "    </tr>\n",
       "    <tr>\n",
       "      <th>22</th>\n",
       "      <td>Michigan</td>\n",
       "      <td>1.0</td>\n",
       "      <td>1.0</td>\n",
       "      <td>0.0</td>\n",
       "    </tr>\n",
       "  </tbody>\n",
       "</table>\n",
       "</div>"
      ],
      "text/plain": [
       "          state  sat_part_2017  sat_part_2018  rate_change\n",
       "6   Connecticut            1.0            1.0          0.0\n",
       "7      Delaware            1.0            1.0          0.0\n",
       "22     Michigan            1.0            1.0          0.0"
      ]
     },
     "execution_count": 40,
     "metadata": {},
     "output_type": "execute_result"
    }
   ],
   "source": [
    "#These states here didn't have a change. They stayed at 100% participation both years\n",
    "sat_both_years_100[sat_both_years_100['rate_change']==0]"
   ]
  },
  {
   "cell_type": "code",
   "execution_count": 41,
   "metadata": {},
   "outputs": [
    {
     "data": {
      "text/html": [
       "<div>\n",
       "<style scoped>\n",
       "    .dataframe tbody tr th:only-of-type {\n",
       "        vertical-align: middle;\n",
       "    }\n",
       "\n",
       "    .dataframe tbody tr th {\n",
       "        vertical-align: top;\n",
       "    }\n",
       "\n",
       "    .dataframe thead th {\n",
       "        text-align: right;\n",
       "    }\n",
       "</style>\n",
       "<table border=\"1\" class=\"dataframe\">\n",
       "  <thead>\n",
       "    <tr style=\"text-align: right;\">\n",
       "      <th></th>\n",
       "      <th>state</th>\n",
       "      <th>sat_part_2017</th>\n",
       "      <th>sat_part_2018</th>\n",
       "      <th>rate_change</th>\n",
       "    </tr>\n",
       "  </thead>\n",
       "  <tbody>\n",
       "    <tr>\n",
       "      <th>8</th>\n",
       "      <td>District of Columbia</td>\n",
       "      <td>1.0</td>\n",
       "      <td>0.92</td>\n",
       "      <td>0.08</td>\n",
       "    </tr>\n",
       "  </tbody>\n",
       "</table>\n",
       "</div>"
      ],
      "text/plain": [
       "                  state  sat_part_2017  sat_part_2018  rate_change\n",
       "8  District of Columbia            1.0           0.92         0.08"
      ]
     },
     "execution_count": 41,
     "metadata": {},
     "output_type": "execute_result"
    }
   ],
   "source": [
    "#These states had the participation go down from 2017 to 2018\n",
    "sat_both_years_100[sat_both_years_100['rate_change'] > 0]"
   ]
  },
  {
   "cell_type": "code",
   "execution_count": 42,
   "metadata": {},
   "outputs": [
    {
     "data": {
      "text/html": [
       "<div>\n",
       "<style scoped>\n",
       "    .dataframe tbody tr th:only-of-type {\n",
       "        vertical-align: middle;\n",
       "    }\n",
       "\n",
       "    .dataframe tbody tr th {\n",
       "        vertical-align: top;\n",
       "    }\n",
       "\n",
       "    .dataframe thead th {\n",
       "        text-align: right;\n",
       "    }\n",
       "</style>\n",
       "<table border=\"1\" class=\"dataframe\">\n",
       "  <thead>\n",
       "    <tr style=\"text-align: right;\">\n",
       "      <th></th>\n",
       "      <th>state</th>\n",
       "      <th>sat_part_2017</th>\n",
       "      <th>sat_part_2018</th>\n",
       "      <th>rate_change</th>\n",
       "    </tr>\n",
       "  </thead>\n",
       "  <tbody>\n",
       "    <tr>\n",
       "      <th>5</th>\n",
       "      <td>Colorado</td>\n",
       "      <td>0.11</td>\n",
       "      <td>1.0</td>\n",
       "      <td>-0.89</td>\n",
       "    </tr>\n",
       "    <tr>\n",
       "      <th>12</th>\n",
       "      <td>Idaho</td>\n",
       "      <td>0.93</td>\n",
       "      <td>1.0</td>\n",
       "      <td>-0.07</td>\n",
       "    </tr>\n",
       "  </tbody>\n",
       "</table>\n",
       "</div>"
      ],
      "text/plain": [
       "       state  sat_part_2017  sat_part_2018  rate_change\n",
       "5   Colorado           0.11            1.0        -0.89\n",
       "12     Idaho           0.93            1.0        -0.07"
      ]
     },
     "execution_count": 42,
     "metadata": {},
     "output_type": "execute_result"
    }
   ],
   "source": [
    "#These states participation went up.\n",
    "sat_both_years_100[sat_both_years_100['rate_change'] < 0]"
   ]
  },
  {
   "cell_type": "markdown",
   "metadata": {},
   "source": [
    "Based on the filters set up above, we can see that the state of Connecticut, Delaware and Michigan retained their 100% participation between 2017 and 2018 SAT test. District of Columbia participation actually went down by 8%. Colorado had the highest improvement of participation. They went up by 89%. While Idaho did go up but by only 7%."
   ]
  },
  {
   "cell_type": "code",
   "execution_count": 43,
   "metadata": {},
   "outputs": [
    {
     "data": {
      "text/html": [
       "<div>\n",
       "<style scoped>\n",
       "    .dataframe tbody tr th:only-of-type {\n",
       "        vertical-align: middle;\n",
       "    }\n",
       "\n",
       "    .dataframe tbody tr th {\n",
       "        vertical-align: top;\n",
       "    }\n",
       "\n",
       "    .dataframe thead th {\n",
       "        text-align: right;\n",
       "    }\n",
       "</style>\n",
       "<table border=\"1\" class=\"dataframe\">\n",
       "  <thead>\n",
       "    <tr style=\"text-align: right;\">\n",
       "      <th></th>\n",
       "      <th>state</th>\n",
       "      <th>act_part_2017</th>\n",
       "      <th>act_part_2018</th>\n",
       "      <th>rate_change</th>\n",
       "    </tr>\n",
       "  </thead>\n",
       "  <tbody>\n",
       "    <tr>\n",
       "      <th>0</th>\n",
       "      <td>Alabama</td>\n",
       "      <td>1.00</td>\n",
       "      <td>1.00</td>\n",
       "      <td>0.00</td>\n",
       "    </tr>\n",
       "    <tr>\n",
       "      <th>3</th>\n",
       "      <td>Arkansas</td>\n",
       "      <td>1.00</td>\n",
       "      <td>1.00</td>\n",
       "      <td>0.00</td>\n",
       "    </tr>\n",
       "    <tr>\n",
       "      <th>5</th>\n",
       "      <td>Colorado</td>\n",
       "      <td>1.00</td>\n",
       "      <td>0.30</td>\n",
       "      <td>0.70</td>\n",
       "    </tr>\n",
       "    <tr>\n",
       "      <th>17</th>\n",
       "      <td>Kentucky</td>\n",
       "      <td>1.00</td>\n",
       "      <td>1.00</td>\n",
       "      <td>0.00</td>\n",
       "    </tr>\n",
       "    <tr>\n",
       "      <th>18</th>\n",
       "      <td>Louisiana</td>\n",
       "      <td>1.00</td>\n",
       "      <td>1.00</td>\n",
       "      <td>0.00</td>\n",
       "    </tr>\n",
       "    <tr>\n",
       "      <th>23</th>\n",
       "      <td>Minnesota</td>\n",
       "      <td>1.00</td>\n",
       "      <td>0.99</td>\n",
       "      <td>0.01</td>\n",
       "    </tr>\n",
       "    <tr>\n",
       "      <th>24</th>\n",
       "      <td>Mississippi</td>\n",
       "      <td>1.00</td>\n",
       "      <td>1.00</td>\n",
       "      <td>0.00</td>\n",
       "    </tr>\n",
       "    <tr>\n",
       "      <th>25</th>\n",
       "      <td>Missouri</td>\n",
       "      <td>1.00</td>\n",
       "      <td>1.00</td>\n",
       "      <td>0.00</td>\n",
       "    </tr>\n",
       "    <tr>\n",
       "      <th>26</th>\n",
       "      <td>Montana</td>\n",
       "      <td>1.00</td>\n",
       "      <td>1.00</td>\n",
       "      <td>0.00</td>\n",
       "    </tr>\n",
       "    <tr>\n",
       "      <th>27</th>\n",
       "      <td>Nebraska</td>\n",
       "      <td>0.84</td>\n",
       "      <td>1.00</td>\n",
       "      <td>-0.16</td>\n",
       "    </tr>\n",
       "    <tr>\n",
       "      <th>28</th>\n",
       "      <td>Nevada</td>\n",
       "      <td>1.00</td>\n",
       "      <td>1.00</td>\n",
       "      <td>0.00</td>\n",
       "    </tr>\n",
       "    <tr>\n",
       "      <th>33</th>\n",
       "      <td>North Carolina</td>\n",
       "      <td>1.00</td>\n",
       "      <td>1.00</td>\n",
       "      <td>0.00</td>\n",
       "    </tr>\n",
       "    <tr>\n",
       "      <th>35</th>\n",
       "      <td>Ohio</td>\n",
       "      <td>0.75</td>\n",
       "      <td>1.00</td>\n",
       "      <td>-0.25</td>\n",
       "    </tr>\n",
       "    <tr>\n",
       "      <th>36</th>\n",
       "      <td>Oklahoma</td>\n",
       "      <td>1.00</td>\n",
       "      <td>1.00</td>\n",
       "      <td>0.00</td>\n",
       "    </tr>\n",
       "    <tr>\n",
       "      <th>40</th>\n",
       "      <td>South Carolina</td>\n",
       "      <td>1.00</td>\n",
       "      <td>1.00</td>\n",
       "      <td>0.00</td>\n",
       "    </tr>\n",
       "    <tr>\n",
       "      <th>42</th>\n",
       "      <td>Tennessee</td>\n",
       "      <td>1.00</td>\n",
       "      <td>1.00</td>\n",
       "      <td>0.00</td>\n",
       "    </tr>\n",
       "    <tr>\n",
       "      <th>44</th>\n",
       "      <td>Utah</td>\n",
       "      <td>1.00</td>\n",
       "      <td>1.00</td>\n",
       "      <td>0.00</td>\n",
       "    </tr>\n",
       "    <tr>\n",
       "      <th>49</th>\n",
       "      <td>Wisconsin</td>\n",
       "      <td>1.00</td>\n",
       "      <td>1.00</td>\n",
       "      <td>0.00</td>\n",
       "    </tr>\n",
       "    <tr>\n",
       "      <th>50</th>\n",
       "      <td>Wyoming</td>\n",
       "      <td>1.00</td>\n",
       "      <td>1.00</td>\n",
       "      <td>0.00</td>\n",
       "    </tr>\n",
       "  </tbody>\n",
       "</table>\n",
       "</div>"
      ],
      "text/plain": [
       "             state  act_part_2017  act_part_2018  rate_change\n",
       "0          Alabama           1.00           1.00         0.00\n",
       "3         Arkansas           1.00           1.00         0.00\n",
       "5         Colorado           1.00           0.30         0.70\n",
       "17        Kentucky           1.00           1.00         0.00\n",
       "18       Louisiana           1.00           1.00         0.00\n",
       "23       Minnesota           1.00           0.99         0.01\n",
       "24     Mississippi           1.00           1.00         0.00\n",
       "25        Missouri           1.00           1.00         0.00\n",
       "26         Montana           1.00           1.00         0.00\n",
       "27        Nebraska           0.84           1.00        -0.16\n",
       "28          Nevada           1.00           1.00         0.00\n",
       "33  North Carolina           1.00           1.00         0.00\n",
       "35            Ohio           0.75           1.00        -0.25\n",
       "36        Oklahoma           1.00           1.00         0.00\n",
       "40  South Carolina           1.00           1.00         0.00\n",
       "42       Tennessee           1.00           1.00         0.00\n",
       "44            Utah           1.00           1.00         0.00\n",
       "49       Wisconsin           1.00           1.00         0.00\n",
       "50         Wyoming           1.00           1.00         0.00"
      ]
     },
     "execution_count": 43,
     "metadata": {},
     "output_type": "execute_result"
    }
   ],
   "source": [
    "#Here I will repeat the process for the ACT participation\n",
    "act_part_2017_2018=test_scores_2017_2018.loc[:, ['state','act_part_2017', 'act_part_2018']]\n",
    "act_part_2017_2018['rate_change'] = act_part_2017_2018['act_part_2017'] - act_part_2017_2018['act_part_2018']\n",
    "act_2017_100 = act_part_2017_2018['act_part_2017'] == 1.00\n",
    "act_2018_100 = act_part_2017_2018['act_part_2018'] == 1.00\n",
    "act_both_years_100 = act_part_2017_2018[act_2017_100 | act_2018_100]\n",
    "act_both_years_100"
   ]
  },
  {
   "cell_type": "code",
   "execution_count": 44,
   "metadata": {},
   "outputs": [
    {
     "data": {
      "text/html": [
       "<div>\n",
       "<style scoped>\n",
       "    .dataframe tbody tr th:only-of-type {\n",
       "        vertical-align: middle;\n",
       "    }\n",
       "\n",
       "    .dataframe tbody tr th {\n",
       "        vertical-align: top;\n",
       "    }\n",
       "\n",
       "    .dataframe thead th {\n",
       "        text-align: right;\n",
       "    }\n",
       "</style>\n",
       "<table border=\"1\" class=\"dataframe\">\n",
       "  <thead>\n",
       "    <tr style=\"text-align: right;\">\n",
       "      <th></th>\n",
       "      <th>state</th>\n",
       "      <th>act_part_2017</th>\n",
       "      <th>act_part_2018</th>\n",
       "      <th>rate_change</th>\n",
       "    </tr>\n",
       "  </thead>\n",
       "  <tbody>\n",
       "    <tr>\n",
       "      <th>0</th>\n",
       "      <td>Alabama</td>\n",
       "      <td>1.0</td>\n",
       "      <td>1.0</td>\n",
       "      <td>0.0</td>\n",
       "    </tr>\n",
       "    <tr>\n",
       "      <th>3</th>\n",
       "      <td>Arkansas</td>\n",
       "      <td>1.0</td>\n",
       "      <td>1.0</td>\n",
       "      <td>0.0</td>\n",
       "    </tr>\n",
       "    <tr>\n",
       "      <th>17</th>\n",
       "      <td>Kentucky</td>\n",
       "      <td>1.0</td>\n",
       "      <td>1.0</td>\n",
       "      <td>0.0</td>\n",
       "    </tr>\n",
       "    <tr>\n",
       "      <th>18</th>\n",
       "      <td>Louisiana</td>\n",
       "      <td>1.0</td>\n",
       "      <td>1.0</td>\n",
       "      <td>0.0</td>\n",
       "    </tr>\n",
       "    <tr>\n",
       "      <th>24</th>\n",
       "      <td>Mississippi</td>\n",
       "      <td>1.0</td>\n",
       "      <td>1.0</td>\n",
       "      <td>0.0</td>\n",
       "    </tr>\n",
       "    <tr>\n",
       "      <th>25</th>\n",
       "      <td>Missouri</td>\n",
       "      <td>1.0</td>\n",
       "      <td>1.0</td>\n",
       "      <td>0.0</td>\n",
       "    </tr>\n",
       "    <tr>\n",
       "      <th>26</th>\n",
       "      <td>Montana</td>\n",
       "      <td>1.0</td>\n",
       "      <td>1.0</td>\n",
       "      <td>0.0</td>\n",
       "    </tr>\n",
       "    <tr>\n",
       "      <th>28</th>\n",
       "      <td>Nevada</td>\n",
       "      <td>1.0</td>\n",
       "      <td>1.0</td>\n",
       "      <td>0.0</td>\n",
       "    </tr>\n",
       "    <tr>\n",
       "      <th>33</th>\n",
       "      <td>North Carolina</td>\n",
       "      <td>1.0</td>\n",
       "      <td>1.0</td>\n",
       "      <td>0.0</td>\n",
       "    </tr>\n",
       "    <tr>\n",
       "      <th>36</th>\n",
       "      <td>Oklahoma</td>\n",
       "      <td>1.0</td>\n",
       "      <td>1.0</td>\n",
       "      <td>0.0</td>\n",
       "    </tr>\n",
       "    <tr>\n",
       "      <th>40</th>\n",
       "      <td>South Carolina</td>\n",
       "      <td>1.0</td>\n",
       "      <td>1.0</td>\n",
       "      <td>0.0</td>\n",
       "    </tr>\n",
       "    <tr>\n",
       "      <th>42</th>\n",
       "      <td>Tennessee</td>\n",
       "      <td>1.0</td>\n",
       "      <td>1.0</td>\n",
       "      <td>0.0</td>\n",
       "    </tr>\n",
       "    <tr>\n",
       "      <th>44</th>\n",
       "      <td>Utah</td>\n",
       "      <td>1.0</td>\n",
       "      <td>1.0</td>\n",
       "      <td>0.0</td>\n",
       "    </tr>\n",
       "    <tr>\n",
       "      <th>49</th>\n",
       "      <td>Wisconsin</td>\n",
       "      <td>1.0</td>\n",
       "      <td>1.0</td>\n",
       "      <td>0.0</td>\n",
       "    </tr>\n",
       "    <tr>\n",
       "      <th>50</th>\n",
       "      <td>Wyoming</td>\n",
       "      <td>1.0</td>\n",
       "      <td>1.0</td>\n",
       "      <td>0.0</td>\n",
       "    </tr>\n",
       "  </tbody>\n",
       "</table>\n",
       "</div>"
      ],
      "text/plain": [
       "             state  act_part_2017  act_part_2018  rate_change\n",
       "0          Alabama            1.0            1.0          0.0\n",
       "3         Arkansas            1.0            1.0          0.0\n",
       "17        Kentucky            1.0            1.0          0.0\n",
       "18       Louisiana            1.0            1.0          0.0\n",
       "24     Mississippi            1.0            1.0          0.0\n",
       "25        Missouri            1.0            1.0          0.0\n",
       "26         Montana            1.0            1.0          0.0\n",
       "28          Nevada            1.0            1.0          0.0\n",
       "33  North Carolina            1.0            1.0          0.0\n",
       "36        Oklahoma            1.0            1.0          0.0\n",
       "40  South Carolina            1.0            1.0          0.0\n",
       "42       Tennessee            1.0            1.0          0.0\n",
       "44            Utah            1.0            1.0          0.0\n",
       "49       Wisconsin            1.0            1.0          0.0\n",
       "50         Wyoming            1.0            1.0          0.0"
      ]
     },
     "execution_count": 44,
     "metadata": {},
     "output_type": "execute_result"
    }
   ],
   "source": [
    "#These states here didn't have a change. They stayed at 100% participation both years\n",
    "act_both_years_100[act_both_years_100['rate_change']==0]"
   ]
  },
  {
   "cell_type": "code",
   "execution_count": 45,
   "metadata": {},
   "outputs": [
    {
     "data": {
      "text/html": [
       "<div>\n",
       "<style scoped>\n",
       "    .dataframe tbody tr th:only-of-type {\n",
       "        vertical-align: middle;\n",
       "    }\n",
       "\n",
       "    .dataframe tbody tr th {\n",
       "        vertical-align: top;\n",
       "    }\n",
       "\n",
       "    .dataframe thead th {\n",
       "        text-align: right;\n",
       "    }\n",
       "</style>\n",
       "<table border=\"1\" class=\"dataframe\">\n",
       "  <thead>\n",
       "    <tr style=\"text-align: right;\">\n",
       "      <th></th>\n",
       "      <th>state</th>\n",
       "      <th>act_part_2017</th>\n",
       "      <th>act_part_2018</th>\n",
       "      <th>rate_change</th>\n",
       "    </tr>\n",
       "  </thead>\n",
       "  <tbody>\n",
       "    <tr>\n",
       "      <th>5</th>\n",
       "      <td>Colorado</td>\n",
       "      <td>1.0</td>\n",
       "      <td>0.30</td>\n",
       "      <td>0.70</td>\n",
       "    </tr>\n",
       "    <tr>\n",
       "      <th>23</th>\n",
       "      <td>Minnesota</td>\n",
       "      <td>1.0</td>\n",
       "      <td>0.99</td>\n",
       "      <td>0.01</td>\n",
       "    </tr>\n",
       "  </tbody>\n",
       "</table>\n",
       "</div>"
      ],
      "text/plain": [
       "        state  act_part_2017  act_part_2018  rate_change\n",
       "5    Colorado            1.0           0.30         0.70\n",
       "23  Minnesota            1.0           0.99         0.01"
      ]
     },
     "execution_count": 45,
     "metadata": {},
     "output_type": "execute_result"
    }
   ],
   "source": [
    "#These states had the participation go down from 2017 to 2018\n",
    "act_both_years_100[act_both_years_100['rate_change'] > 0]"
   ]
  },
  {
   "cell_type": "code",
   "execution_count": 46,
   "metadata": {},
   "outputs": [
    {
     "data": {
      "text/html": [
       "<div>\n",
       "<style scoped>\n",
       "    .dataframe tbody tr th:only-of-type {\n",
       "        vertical-align: middle;\n",
       "    }\n",
       "\n",
       "    .dataframe tbody tr th {\n",
       "        vertical-align: top;\n",
       "    }\n",
       "\n",
       "    .dataframe thead th {\n",
       "        text-align: right;\n",
       "    }\n",
       "</style>\n",
       "<table border=\"1\" class=\"dataframe\">\n",
       "  <thead>\n",
       "    <tr style=\"text-align: right;\">\n",
       "      <th></th>\n",
       "      <th>state</th>\n",
       "      <th>act_part_2017</th>\n",
       "      <th>act_part_2018</th>\n",
       "      <th>rate_change</th>\n",
       "    </tr>\n",
       "  </thead>\n",
       "  <tbody>\n",
       "    <tr>\n",
       "      <th>27</th>\n",
       "      <td>Nebraska</td>\n",
       "      <td>0.84</td>\n",
       "      <td>1.0</td>\n",
       "      <td>-0.16</td>\n",
       "    </tr>\n",
       "    <tr>\n",
       "      <th>35</th>\n",
       "      <td>Ohio</td>\n",
       "      <td>0.75</td>\n",
       "      <td>1.0</td>\n",
       "      <td>-0.25</td>\n",
       "    </tr>\n",
       "  </tbody>\n",
       "</table>\n",
       "</div>"
      ],
      "text/plain": [
       "       state  act_part_2017  act_part_2018  rate_change\n",
       "27  Nebraska           0.84            1.0        -0.16\n",
       "35      Ohio           0.75            1.0        -0.25"
      ]
     },
     "execution_count": 46,
     "metadata": {},
     "output_type": "execute_result"
    }
   ],
   "source": [
    "#These states participation went up.\n",
    "act_both_years_100[act_both_years_100['rate_change'] < 0]"
   ]
  },
  {
   "cell_type": "markdown",
   "metadata": {},
   "source": [
    "Now looking at the ACT data for the two years, the interesting number is for Colorado. While the SAT participation from Colorado increased to a full 100%, the ACT ended up dropping by 30%. It would be interesting to investigate why that might be. "
   ]
  },
  {
   "cell_type": "code",
   "execution_count": 47,
   "metadata": {},
   "outputs": [
    {
     "data": {
      "text/html": [
       "<div>\n",
       "<style scoped>\n",
       "    .dataframe tbody tr th:only-of-type {\n",
       "        vertical-align: middle;\n",
       "    }\n",
       "\n",
       "    .dataframe tbody tr th {\n",
       "        vertical-align: top;\n",
       "    }\n",
       "\n",
       "    .dataframe thead th {\n",
       "        text-align: right;\n",
       "    }\n",
       "</style>\n",
       "<table border=\"1\" class=\"dataframe\">\n",
       "  <thead>\n",
       "    <tr style=\"text-align: right;\">\n",
       "      <th></th>\n",
       "      <th>state</th>\n",
       "      <th>sat_part_2017</th>\n",
       "      <th>sat_part_2018</th>\n",
       "      <th>act_part_2017</th>\n",
       "      <th>act_part_2018</th>\n",
       "    </tr>\n",
       "  </thead>\n",
       "  <tbody>\n",
       "    <tr>\n",
       "      <th>9</th>\n",
       "      <td>Florida</td>\n",
       "      <td>0.83</td>\n",
       "      <td>0.56</td>\n",
       "      <td>0.73</td>\n",
       "      <td>0.66</td>\n",
       "    </tr>\n",
       "    <tr>\n",
       "      <th>10</th>\n",
       "      <td>Georgia</td>\n",
       "      <td>0.61</td>\n",
       "      <td>0.70</td>\n",
       "      <td>0.55</td>\n",
       "      <td>0.53</td>\n",
       "    </tr>\n",
       "    <tr>\n",
       "      <th>11</th>\n",
       "      <td>Hawaii</td>\n",
       "      <td>0.55</td>\n",
       "      <td>0.56</td>\n",
       "      <td>0.90</td>\n",
       "      <td>0.89</td>\n",
       "    </tr>\n",
       "    <tr>\n",
       "      <th>33</th>\n",
       "      <td>North Carolina</td>\n",
       "      <td>0.49</td>\n",
       "      <td>0.52</td>\n",
       "      <td>1.00</td>\n",
       "      <td>1.00</td>\n",
       "    </tr>\n",
       "    <tr>\n",
       "      <th>40</th>\n",
       "      <td>South Carolina</td>\n",
       "      <td>0.50</td>\n",
       "      <td>0.55</td>\n",
       "      <td>1.00</td>\n",
       "      <td>1.00</td>\n",
       "    </tr>\n",
       "  </tbody>\n",
       "</table>\n",
       "</div>"
      ],
      "text/plain": [
       "             state  sat_part_2017  sat_part_2018  act_part_2017  act_part_2018\n",
       "9          Florida           0.83           0.56           0.73           0.66\n",
       "10         Georgia           0.61           0.70           0.55           0.53\n",
       "11          Hawaii           0.55           0.56           0.90           0.89\n",
       "33  North Carolina           0.49           0.52           1.00           1.00\n",
       "40  South Carolina           0.50           0.55           1.00           1.00"
      ]
     },
     "execution_count": 47,
     "metadata": {},
     "output_type": "execute_result"
    }
   ],
   "source": [
    "#Do any states show have >50% participation on both tests either year?\n",
    "\n",
    "\n",
    "#Here I am pulling the state, sat_part_2017 and sat_part_2018 data only from the main dataframe\n",
    "sat_act_part_2017_2018=test_scores_2017_2018.loc[:, ['state','sat_part_2017', 'sat_part_2018', 'act_part_2017',\n",
    "                                                'act_part_2018']]\n",
    "\n",
    "#Not I am setting a mask for the greater than 50% participation for years 2017 and 2018\n",
    "sat_2017_50 = sat_act_part_2017_2018['sat_part_2017'] > .50\n",
    "sat_2018_50 = sat_act_part_2017_2018['sat_part_2018'] > .50\n",
    "act_2017_50 = sat_act_part_2017_2018['act_part_2017'] > .50\n",
    "act_2018_50 = sat_act_part_2017_2018['act_part_2018'] > .50\n",
    "#I want to see the states that had greater than 50% in 2017 and 50% participation in 2018 for both SAT and ACT\n",
    "sat_act_both_years_50 = sat_act_part_2017_2018[(sat_2017_50 & act_2017_50) | (sat_2018_50 & act_2018_50)]\n",
    "sat_act_both_years_50"
   ]
  },
  {
   "cell_type": "markdown",
   "metadata": {},
   "source": [
    "The interesting thing we notice from this table is that these states had higher participation rates for both SAT and ACT together for both 2017 and 2018.\n",
    "\n",
    "It would be interesting to explore further why these 5 states have high participation rates for both tests, while other states seem to favour one or the other.\n",
    "\n",
    "Another question that comes to mind is if there is a positive or negative correlation between SAT and ACT participation. If the correlation is negative, why is that?"
   ]
  },
  {
   "cell_type": "code",
   "execution_count": 48,
   "metadata": {
    "scrolled": true
   },
   "outputs": [
    {
     "data": {
      "text/html": [
       "<div>\n",
       "<style scoped>\n",
       "    .dataframe tbody tr th:only-of-type {\n",
       "        vertical-align: middle;\n",
       "    }\n",
       "\n",
       "    .dataframe tbody tr th {\n",
       "        vertical-align: top;\n",
       "    }\n",
       "\n",
       "    .dataframe thead th {\n",
       "        text-align: right;\n",
       "    }\n",
       "</style>\n",
       "<table border=\"1\" class=\"dataframe\">\n",
       "  <thead>\n",
       "    <tr style=\"text-align: right;\">\n",
       "      <th></th>\n",
       "      <th>state</th>\n",
       "      <th>sat_part_2017</th>\n",
       "      <th>sat_part_2018</th>\n",
       "      <th>act_part_2017</th>\n",
       "      <th>act_part_2018</th>\n",
       "    </tr>\n",
       "  </thead>\n",
       "  <tbody>\n",
       "    <tr>\n",
       "      <th>1</th>\n",
       "      <td>Alaska</td>\n",
       "      <td>0.38</td>\n",
       "      <td>0.43</td>\n",
       "      <td>0.65</td>\n",
       "      <td>0.33</td>\n",
       "    </tr>\n",
       "    <tr>\n",
       "      <th>37</th>\n",
       "      <td>Oregon</td>\n",
       "      <td>0.43</td>\n",
       "      <td>0.48</td>\n",
       "      <td>0.40</td>\n",
       "      <td>0.42</td>\n",
       "    </tr>\n",
       "  </tbody>\n",
       "</table>\n",
       "</div>"
      ],
      "text/plain": [
       "     state  sat_part_2017  sat_part_2018  act_part_2017  act_part_2018\n",
       "1   Alaska           0.38           0.43           0.65           0.33\n",
       "37  Oregon           0.43           0.48           0.40           0.42"
      ]
     },
     "execution_count": 48,
     "metadata": {},
     "output_type": "execute_result"
    }
   ],
   "source": [
    "#Do any states show have <50% participation on both tests either year?\n",
    "\n",
    "\n",
    "#Here I am pulling the state, sat_part_2017 and sat_part_2018 data only from the main dataframe\n",
    "sat_act_part_2017_2018_low=test_scores_2017_2018.loc[:, ['state','sat_part_2017', 'sat_part_2018', 'act_part_2017',\n",
    "                                                'act_part_2018']]\n",
    "\n",
    "#Not I am setting a mask for the greater than 50% participation for years 2017 and 2018\n",
    "sat_2017_50_lower = sat_act_part_2017_2018_low['sat_part_2017'] < .50\n",
    "sat_2018_50_lower = sat_act_part_2017_2018_low['sat_part_2018'] < .50\n",
    "act_2017_50_lower = sat_act_part_2017_2018_low['act_part_2017'] < .50\n",
    "act_2018_50_lower = sat_act_part_2017_2018_low['act_part_2018'] < .50\n",
    "#I want to see the states that had greater than 50% in 2017 and 50% participation in 2018 for both SAT and ACT\n",
    "sat_act_both_years_50_low = sat_act_part_2017_2018_low[(sat_2017_50_lower & act_2017_50_lower)\n",
    "                                                       | (sat_2018_50_lower & act_2018_50_lower)]\n",
    "sat_act_both_years_50_low"
   ]
  },
  {
   "cell_type": "markdown",
   "metadata": {},
   "source": [
    "The tests in Alaska and Oregon aren't as low as I would have predicted. "
   ]
  },
  {
   "cell_type": "markdown",
   "metadata": {},
   "source": [
    "## Visualize the data\n",
    "\n",
    "There's not a magic bullet recommendation for the right number of plots to understand a given dataset, but visualizing your data is *always* a good idea. Not only does it allow you to quickly convey your findings (even if you have a non-technical audience), it will often reveal trends in your data that escaped you when you were looking only at numbers.\n",
    "\n",
    "Some recommendations on plotting:\n",
    "- Plots have titles\n",
    "- Plots have axis labels\n",
    "- Plots have appropriate tick labels\n",
    "- All text is legible in a plot\n",
    "- Plots demonstrate meaningful and valid relationships\n",
    "- Plots are interpreted to aid understanding\n",
    "\n",
    "There is such a thing as too many plots, and there are a *lot* of bad plots. You might make some! (But hopefully not with the guided prompts below)."
   ]
  },
  {
   "cell_type": "markdown",
   "metadata": {},
   "source": [
    "#### Use Seaborn's heatmap with pandas `.corr()` to visualize correlations between all numeric features\n",
    "\n",
    "Heatmaps are generally not appropriate for presentations, and should often be excluded from reports as they can be visually overwhelming. **However**, they can be extremely useful in identify relationships of potential interest (as well as identifying potential collinearity before modeling).\n",
    "\n",
    "*example*:\n",
    "```python\n",
    "sns.heatmap(df.corr())\n",
    "```\n",
    "\n",
    "\n",
    "Please take time to format your output, adding a title. Look through some of the additional arguments and options. (Axis labels aren't really necessary, as long as the title is informative)."
   ]
  },
  {
   "cell_type": "code",
   "execution_count": 49,
   "metadata": {
    "scrolled": false
   },
   "outputs": [
    {
     "data": {
      "image/png": "[encoded data removed]",
      "text/plain": [
       "<Figure size 1152x648 with 2 Axes>"
      ]
     },
     "metadata": {
      "needs_background": "light"
     },
     "output_type": "display_data"
    }
   ],
   "source": [
    "plt.figure(figsize = (16,9))\n",
    "\n",
    "#Below mask code is credited to https://towardsdatascience.com/formatting-tips-for-correlation-heatmaps-in-seaborn-4478ef15d87f\n",
    "mask = np.zeros(test_scores_2017_2018.corr().shape, dtype=bool)\n",
    "mask[np.triu_indices(len(mask))] = True\n",
    "\n",
    "\n",
    "sns.heatmap(test_scores_2017_2018.corr(), cmap=\"Oranges\", annot=True, cbar_kws={'label': 'Correlation'}, mask=mask);\n",
    "plt.title('Correlation of SAT and ACT Numerical Scores');"
   ]
  },
  {
   "cell_type": "code",
   "execution_count": 50,
   "metadata": {},
   "outputs": [
    {
     "data": {
      "image/png": "[encoded data removed]",
      "text/plain": [
       "<Figure size 432x288 with 2 Axes>"
      ]
     },
     "metadata": {
      "needs_background": "light"
     },
     "output_type": "display_data"
    }
   ],
   "source": [
    "\n",
    "\n",
    "#Below mask code is credited to https://towardsdatascience.com/formatting-tips-for-correlation-heatmaps-in-seaborn-4478ef15d87f\n",
    "mask = np.zeros(sat_act_part_2017_2018.corr().shape, dtype=bool)\n",
    "mask[np.triu_indices(len(mask))] = True\n",
    "\n",
    "\n",
    "sns.heatmap(sat_act_part_2017_2018.corr(), cmap=\"YlGn\", annot=True, cbar_kws={'label': 'Correlation'}, mask=mask);\n",
    "plt.title('Correlation SAT and ACT Participation in 2017 and 2018');\n",
    "\n"
   ]
  },
  {
   "cell_type": "markdown",
   "metadata": {},
   "source": [
    "The ACT participation in 2017 and ACT participation in 2018 have a positive correlation of 0.92. The heatmap also reveals that SAT participation in 2018 and ACT participation in 2018 have a negative correlation of 0.87. For 2017, it was also negative correlation of 0.84. It would be interesting to investigate why as one test participation goes up the other one goes down. "
   ]
  },
  {
   "cell_type": "markdown",
   "metadata": {},
   "source": [
    "#### Define a custom function to subplot histograms\n",
    "\n",
    "We have data for two tests for two years. We only have composite (and not subtest scores) for the 2018 ACT. We should write a function that will take the names of 2+ columns and subplot histograms. While you can use pandas plotting or Seaborn here, matplotlib gives you greater control over all aspects of your plots.\n",
    "\n",
    "[Helpful Link for Plotting Multiple Figures](https://matplotlib.org/users/pyplot_tutorial.html#working-with-multiple-figures-and-axes)\n",
    "\n",
    "Here's some starter code:"
   ]
  },
  {
   "cell_type": "code",
   "execution_count": 51,
   "metadata": {},
   "outputs": [],
   "source": [
    "def subplot_histograms(dataframe, list_of_columns, list_of_titles, list_of_xlabels, list_of_ylabels, figsize, bins):\n",
    "    \n",
    "    nrows = int(np.ceil(len(list_of_columns)/2)) # Makes sure you have enough rows\n",
    "    \n",
    "    fig, ax = plt.subplots(nrows=nrows, ncols=2, figsize = figsize) # You'll want to specify your figsize\n",
    "    plt.subplots_adjust(hspace = 0.4) #making space between the graphs to make better readability\n",
    "    \n",
    "    ax = ax.ravel() # Ravel turns a matrix into a vector, which is easier to iterate\n",
    "    \n",
    "    for i, column in enumerate(list_of_columns): # Gives us an index value to get into all our lists\n",
    "        ax[i].hist(dataframe[column], bins = bins, color = 'blue', ec = 'white') # feel free to add more settings\n",
    "        # Set titles, labels, etc here for each subplot\n",
    "        \n",
    "        ax[i].set_xlabel(list_of_xlabels[i], weight = 'bold')\n",
    "        ax[i].set_title(list_of_titles[i], weight = 'bold', fontsize = 20)\n",
    "        ax[i].set_ylabel(list_of_ylabels[i], weight = 'bold')\n",
    "        ax[i].spines['right'].set_visible(False)\n",
    "        ax[i].spines['top'].set_visible(False)\n",
    "        ax[i].spines['left'].set_visible(False)"
   ]
  },
  {
   "cell_type": "markdown",
   "metadata": {},
   "source": [
    "#### Plot and interpret histograms \n",
    "For each of the following:\n",
    "- Participation rates for SAT & ACT\n",
    "- Math scores for SAT & ACT\n",
    "- Reading/verbal scores for SAT & ACT"
   ]
  },
  {
   "cell_type": "code",
   "execution_count": 52,
   "metadata": {},
   "outputs": [
    {
     "data": {
      "image/png": "[encoded data removed]",
      "text/plain": [
       "<Figure size 1440x1080 with 4 Axes>"
      ]
     },
     "metadata": {
      "needs_background": "light"
     },
     "output_type": "display_data"
    }
   ],
   "source": [
    "#Participation rates for SAT & ACT\n",
    "\n",
    "\n",
    "subplot_histograms(test_scores_2017_2018, ['sat_part_2017', 'sat_part_2018', 'act_part_2017', 'act_part_2018'], \n",
    "                   ['SAT Participation 2017', 'SAT Participation 2018', 'ACT Participation 2017', 'ACT Participation 2018'],\n",
    "                   ['participation rate'] * 4, ['Number of States']*4, figsize = (20,15), bins = 10)"
   ]
  },
  {
   "cell_type": "code",
   "execution_count": 53,
   "metadata": {},
   "outputs": [
    {
     "data": {
      "image/png": "[encoded data removed]",
      "text/plain": [
       "<Figure size 1440x1080 with 4 Axes>"
      ]
     },
     "metadata": {
      "needs_background": "light"
     },
     "output_type": "display_data"
    }
   ],
   "source": [
    "#Math scores for SAT & ACT\n",
    "\n",
    "\n",
    "subplot_histograms(test_scores_2017_2018, ['sat_math_2017', 'sat_math_2018', 'act_math_2017'], \n",
    "                   ['SAT Math Scores 2017', 'SAT Math Scores 2018', 'ACT Math Scores 2017'],\n",
    "                   ['Average Math Score'] * 3, ['Number of States']*3, figsize = (20,15), bins = 10)\n"
   ]
  },
  {
   "cell_type": "markdown",
   "metadata": {},
   "source": [
    "It looks like there is an outlier in our SAT Math Scores for 2017. This outlier will affect our descriptive statistics for the data. Let's check it out. "
   ]
  },
  {
   "cell_type": "code",
   "execution_count": 54,
   "metadata": {},
   "outputs": [
    {
     "data": {
      "text/html": [
       "<div>\n",
       "<style scoped>\n",
       "    .dataframe tbody tr th:only-of-type {\n",
       "        vertical-align: middle;\n",
       "    }\n",
       "\n",
       "    .dataframe tbody tr th {\n",
       "        vertical-align: top;\n",
       "    }\n",
       "\n",
       "    .dataframe thead th {\n",
       "        text-align: right;\n",
       "    }\n",
       "</style>\n",
       "<table border=\"1\" class=\"dataframe\">\n",
       "  <thead>\n",
       "    <tr style=\"text-align: right;\">\n",
       "      <th></th>\n",
       "      <th>state</th>\n",
       "      <th>act_part_2017</th>\n",
       "      <th>act_eng_2017</th>\n",
       "      <th>act_math_2017</th>\n",
       "      <th>act_read_2017</th>\n",
       "      <th>act_science_2017</th>\n",
       "      <th>act_comp_2017</th>\n",
       "      <th>sat_part_2017</th>\n",
       "      <th>sat_read_2017</th>\n",
       "      <th>sat_math_2017</th>\n",
       "      <th>sat_total_2017</th>\n",
       "      <th>act_part_2018</th>\n",
       "      <th>act_comp_2018</th>\n",
       "      <th>sat_part_2018</th>\n",
       "      <th>sat_read_2018</th>\n",
       "      <th>sat_math_2018</th>\n",
       "      <th>sat_total_2018</th>\n",
       "    </tr>\n",
       "  </thead>\n",
       "  <tbody>\n",
       "    <tr>\n",
       "      <th>20</th>\n",
       "      <td>Maryland</td>\n",
       "      <td>0.28</td>\n",
       "      <td>23.3</td>\n",
       "      <td>23.1</td>\n",
       "      <td>24.2</td>\n",
       "      <td>2.3</td>\n",
       "      <td>23.6</td>\n",
       "      <td>0.69</td>\n",
       "      <td>536</td>\n",
       "      <td>52</td>\n",
       "      <td>1060</td>\n",
       "      <td>0.31</td>\n",
       "      <td>22.5</td>\n",
       "      <td>0.76</td>\n",
       "      <td>545</td>\n",
       "      <td>535</td>\n",
       "      <td>1080</td>\n",
       "    </tr>\n",
       "  </tbody>\n",
       "</table>\n",
       "</div>"
      ],
      "text/plain": [
       "       state  act_part_2017  act_eng_2017  act_math_2017  act_read_2017  \\\n",
       "20  Maryland           0.28          23.3           23.1           24.2   \n",
       "\n",
       "    act_science_2017  act_comp_2017  sat_part_2017  sat_read_2017  \\\n",
       "20               2.3           23.6           0.69            536   \n",
       "\n",
       "    sat_math_2017  sat_total_2017  act_part_2018  act_comp_2018  \\\n",
       "20             52            1060           0.31           22.5   \n",
       "\n",
       "    sat_part_2018  sat_read_2018  sat_math_2018  sat_total_2018  \n",
       "20           0.76            545            535            1080  "
      ]
     },
     "execution_count": 54,
     "metadata": {},
     "output_type": "execute_result"
    }
   ],
   "source": [
    "#Pulling the state that has such a low SAT Math Score. \n",
    "\n",
    "test_scores_2017_2018[test_scores_2017_2018['sat_math_2017'] < 200]"
   ]
  },
  {
   "cell_type": "markdown",
   "metadata": {},
   "source": [
    "By examining the data, we see that Maryland Math SAT score for 2017 is 52 in the data. It is most likely an error. The SAT Total score for 2017 is 1060. The Reading score is 536. Thus the Math score should probably be set to 524.\n",
    "\n",
    "In the future, we need to double check this information and correct the average score for Maryland. "
   ]
  },
  {
   "cell_type": "code",
   "execution_count": 55,
   "metadata": {},
   "outputs": [
    {
     "data": {
      "image/png": "[encoded data removed]",
      "text/plain": [
       "<Figure size 1440x1080 with 4 Axes>"
      ]
     },
     "metadata": {
      "needs_background": "light"
     },
     "output_type": "display_data"
    }
   ],
   "source": [
    "#Reading/verbal scores for SAT & ACT\n",
    "\n",
    "#Math scores for SAT & ACT\n",
    "\n",
    "\n",
    "subplot_histograms(test_scores_2017_2018, ['sat_read_2017', 'sat_read_2018', 'act_read_2017'], \n",
    "                   ['SAT Evidence-Based Read and Write Scores 2017', 'SAT Evidence-Based Read and Write Scores 2018', 'ACT Reading Scores 2017'],\n",
    "                   ['Average Reading Score'] * 3, ['Number of States']*3, figsize = (20,15), bins = 10)\n"
   ]
  },
  {
   "cell_type": "markdown",
   "metadata": {},
   "source": [
    "Aside from the problem with Maryland, I do not notice a significant change in participation, math or reading scores from year to year. Along with that, our 2018 ACT data doesn't have reading or math scores that we can compare our 2017 data. So, last I would like to take a look at the Total SAT scores and the ACT Composite scores. "
   ]
  },
  {
   "cell_type": "code",
   "execution_count": 56,
   "metadata": {},
   "outputs": [
    {
     "data": {
      "image/png": "[encoded data removed]",
      "text/plain": [
       "<Figure size 1440x1080 with 4 Axes>"
      ]
     },
     "metadata": {
      "needs_background": "light"
     },
     "output_type": "display_data"
    }
   ],
   "source": [
    "subplot_histograms(test_scores_2017_2018, ['sat_total_2017', 'sat_total_2018', 'act_comp_2017', 'act_comp_2017'], \n",
    "                   ['SAT Total Scores 2017', \n",
    "                    'SAT Total Scores 2018', \n",
    "                    'ACT Composite Scores 2017', 'ACT Composite Scores 2018'],\n",
    "                   ['Total Scores', 'Total Scores', 'Composite Scores', 'Composite Scores'],\n",
    "                   ['Number of States']*4, figsize = (20,15), bins = 10)"
   ]
  },
  {
   "cell_type": "markdown",
   "metadata": {},
   "source": [
    "Even looking at histograms of Total and Composite scores, there is not a large difference that jump out. "
   ]
  },
  {
   "cell_type": "markdown",
   "metadata": {},
   "source": [
    "#### Plot and interpret scatter plots\n",
    "\n",
    "For each of the following:\n",
    "- SAT vs. ACT math scores for 2017\n",
    "- SAT vs. ACT verbal/reading scores for 2017\n",
    "- SAT vs. ACT total/composite scores for 2017\n",
    "- Total scores for SAT 2017 vs. 2018\n",
    "- Composite scores for ACT 2017 vs. 2018\n",
    "\n",
    "Plot the two variables against each other using matplotlib or Seaborn\n",
    "\n",
    "Your plots should show:\n",
    "- Two clearly labeled axes\n",
    "- A proper title\n",
    "- Using colors and symbols that are clear and unmistakable\n",
    "\n",
    "**Feel free to write a custom function, and subplot if you'd like.** Functions save both time and space.\n"
   ]
  },
  {
   "cell_type": "code",
   "execution_count": 57,
   "metadata": {},
   "outputs": [
    {
     "data": {
      "image/png": "[encoded data removed]",
      "text/plain": [
       "<Figure size 720x360 with 1 Axes>"
      ]
     },
     "metadata": {
      "needs_background": "light"
     },
     "output_type": "display_data"
    }
   ],
   "source": [
    "plt.figure(figsize = (10,5))\n",
    "plt.scatter(test_scores_2017_2018['sat_math_2017'], test_scores_2017_2018['act_math_2017']);\n",
    "plt.scatter(test_scores_2017_2018['sat_read_2017'], test_scores_2017_2018['act_read_2017']);\n",
    "plt.scatter(test_scores_2017_2018['sat_total_2017'], test_scores_2017_2018['act_comp_2017']);\n",
    "plt.title(\"SAT vs. ACT math, verbal/reading and total/composite scores for 2017\", weight = 'bold');\n",
    "plt.legend(['math scores', 'verbal/reading', 'total/composite']);\n",
    "plt.xlabel('SAT scores', weight='bold');\n",
    "plt.ylabel('ACT scores', weight = 'bold');\n",
    "\n"
   ]
  },
  {
   "cell_type": "markdown",
   "metadata": {},
   "source": [
    "Looking at the scatter plot of SAT vs ACT scores, there doesn't seem to be a correlation between the SAT and ACT scores in 2017. "
   ]
  },
  {
   "cell_type": "code",
   "execution_count": 58,
   "metadata": {},
   "outputs": [
    {
     "data": {
      "image/png": "[encoded data removed]",
      "text/plain": [
       "<Figure size 1080x360 with 2 Axes>"
      ]
     },
     "metadata": {
      "needs_background": "light"
     },
     "output_type": "display_data"
    }
   ],
   "source": [
    "fix, ax = plt.subplots(1, 2, figsize = (15,5))\n",
    "\n",
    "ax[0].scatter(test_scores_2017_2018['sat_total_2017'], test_scores_2017_2018['sat_total_2018']);\n",
    "ax[1].scatter(test_scores_2017_2018['act_comp_2017'], test_scores_2017_2018['act_comp_2018'])\n",
    "ax[0].set_title(\"SAT Total for 2017 vs. 2018\", weight = 'bold');\n",
    "ax[1].set_title('ACT Composite for 2017 vs. 2018', weight = 'bold')\n",
    "ax[0].set_xlabel('SAT scores 2017', weight='bold');\n",
    "ax[1].set_xlabel('ACT scores 2017', weight='bold');\n",
    "ax[0].set_ylabel('SAT scores 2018', weight='bold');\n",
    "ax[1].set_ylabel('ACT scores 2018', weight='bold');\n"
   ]
  },
  {
   "cell_type": "markdown",
   "metadata": {},
   "source": [
    "There is definetely a positive correlation between SAT total for 2017 vs 2018 and ACT Composite for 2017 vs 2018. "
   ]
  },
  {
   "cell_type": "markdown",
   "metadata": {},
   "source": [
    "#### Plot and interpret boxplots\n",
    "\n",
    "For each numeric variable in the dataframe create a boxplot using Seaborn. Boxplots demonstrate central tendency and spread in variables. In a certain sense, these are somewhat redundant with histograms, but you may be better able to identify clear outliers or differences in IQR, etc.\n",
    "\n",
    "Multiple values can be plotted to a single boxplot as long as they are of the same relative scale (meaning they have similar min/max values).\n",
    "\n",
    "Each boxplot should:\n",
    "- Only include variables of a similar scale\n",
    "- Have clear labels for each variable\n",
    "- Have appropriate titles and labels"
   ]
  },
  {
   "cell_type": "code",
   "execution_count": 59,
   "metadata": {},
   "outputs": [
    {
     "data": {
      "image/png": "[encoded data removed]",
      "text/plain": [
       "<Figure size 432x288 with 1 Axes>"
      ]
     },
     "metadata": {
      "needs_background": "light"
     },
     "output_type": "display_data"
    }
   ],
   "source": [
    "def multiple_boxplots(dataframe, list_of_columns, title):\n",
    "    matrix_of_data = dataframe.loc[:, list_of_columns]\n",
    "    sns.boxplot(data = matrix_of_data).set_title(title, weight = 'bold', fontsize = 14)\n",
    "    \n",
    "\n",
    "\n",
    "multiple_boxplots(test_scores_2017_2018, ['sat_part_2017', 'sat_part_2018', 'act_part_2017', 'act_part_2018'], \n",
    "                  'Participation')\n"
   ]
  },
  {
   "cell_type": "markdown",
   "metadata": {},
   "source": [
    "It's interesting to see that the participation in ACT is on average higher than the participation in SAT. The tails of the box plot are in oposite directions. "
   ]
  },
  {
   "cell_type": "code",
   "execution_count": 60,
   "metadata": {},
   "outputs": [
    {
     "data": {
      "image/png": "[encoded data removed]",
      "text/plain": [
       "<Figure size 432x288 with 1 Axes>"
      ]
     },
     "metadata": {
      "needs_background": "light"
     },
     "output_type": "display_data"
    }
   ],
   "source": [
    "multiple_boxplots(test_scores_2017_2018, ['sat_total_2017', 'sat_total_2018'], \n",
    "                  'Total SAT Scores')"
   ]
  },
  {
   "cell_type": "code",
   "execution_count": 61,
   "metadata": {},
   "outputs": [
    {
     "data": {
      "image/png": "[encoded data removed]",
      "text/plain": [
       "<Figure size 432x288 with 1 Axes>"
      ]
     },
     "metadata": {
      "needs_background": "light"
     },
     "output_type": "display_data"
    }
   ],
   "source": [
    "multiple_boxplots(test_scores_2017_2018, ['act_comp_2017', 'act_comp_2018'], \n",
    "                  'Composite ACT Scores')"
   ]
  },
  {
   "cell_type": "markdown",
   "metadata": {},
   "source": [
    "Two graphs above could not be compared since the grading system for SAT and ACT is different. But looking at them separately, it sees that neigher the total SAT nor the composite ACT scores varied much from year to year. "
   ]
  },
  {
   "cell_type": "markdown",
   "metadata": {},
   "source": [
    "#### Feel free to do additional plots below\n",
    "*(do research and choose your own chart types & variables)*\n",
    "\n",
    "Are there any additional trends or relationships you haven't explored? Was there something interesting you saw that you'd like to dive further into? It's likely that there are a few more plots you might want to generate to support your narrative and recommendations that you are building toward. **As always, make sure you're interpreting your plots as you go**."
   ]
  },
  {
   "cell_type": "markdown",
   "metadata": {},
   "source": [
    "The one number I have not explored so far is the rate of change for the participation from state to state. "
   ]
  },
  {
   "cell_type": "code",
   "execution_count": 62,
   "metadata": {},
   "outputs": [
    {
     "data": {
      "image/png": "[encoded data removed]",
      "text/plain": [
       "<Figure size 1080x720 with 4 Axes>"
      ]
     },
     "metadata": {
      "needs_background": "light"
     },
     "output_type": "display_data"
    }
   ],
   "source": [
    "#Keep in mind that a negative rate of change means the participation went up\n",
    "#Positive rate of change means the participation went down\n",
    "fig, ax = plt.subplots(2, 2, figsize=(15,10))\n",
    "plt.subplots_adjust(hspace = 0.4)\n",
    "ax[0,0].hist(sat_part_2017_2018['rate_change'], bins = 25, ec='white')\n",
    "ax[0,1].hist(act_part_2017_2018['rate_change'], bins = 25, ec='white');\n",
    "ax[1,0].boxplot(sat_part_2017_2018['rate_change']) ;  \n",
    "ax[1,1].boxplot(act_part_2017_2018['rate_change']);\n",
    "ax[0,0].set_title('SAT Participation change from 2017 to 2018', weight = 'bold')\n",
    "ax[0,1].set_title('ACT Participation change from 2017 to 2018', weight = 'bold')\n",
    "ax[1,0].set_title('SAT Participation change from 2017 to 2018', weight = 'bold')\n",
    "ax[1,1].set_title('ACT Participation change from 2017 to 2018', weight = 'bold');\n",
    "ax[0,0].set_xlabel('negative rate of change = participation went up');\n",
    "ax[0,1].set_xlabel('negative rate of change = participation went up')\n",
    "ax[0,0].set_ylabel('number of states');\n",
    "ax[0,1].set_ylabel('number of states')\n",
    "ax[1,0].set_ylabel('negative rate of change = participation went up')\n",
    "ax[1,1].set_ylabel('negative rate of change = participation went up')\n",
    "ax[1,0].set_xlabel('SAT')\n",
    "ax[1,1].set_xlabel('ACT');"
   ]
  },
  {
   "cell_type": "code",
   "execution_count": 63,
   "metadata": {},
   "outputs": [
    {
     "data": {
      "image/png": "[encoded data removed]",
      "text/plain": [
       "<Figure size 1080x720 with 4 Axes>"
      ]
     },
     "metadata": {
      "needs_background": "light"
     },
     "output_type": "display_data"
    }
   ],
   "source": [
    "#Scatter plot of participation vs. total scores\n",
    "fig, ax = plt.subplots(2, 2, figsize=(15,10))\n",
    "plt.subplots_adjust(hspace = 0.4)\n",
    "ax[0,0].scatter(test_scores_2017_2018['sat_part_2017'], test_scores_2017_2018['sat_total_2017'])\n",
    "ax[0,1].scatter(test_scores_2017_2018['sat_part_2018'], test_scores_2017_2018['sat_total_2018'])\n",
    "ax[1,0].scatter(test_scores_2017_2018['act_part_2017'], test_scores_2017_2018['act_comp_2017'])\n",
    "ax[1,1].scatter(test_scores_2017_2018['act_part_2018'], test_scores_2017_2018['act_comp_2018'])\n",
    "ax[0,0].set_title('SAT Participation vs Total Scores in 2017', weight = 'bold')\n",
    "ax[0,1].set_title('SAT Participation vs Total Scores in 2018', weight = 'bold')\n",
    "ax[1,0].set_title('ACT Participation vs Composite Scores in 2017', weight = 'bold')\n",
    "ax[1,1].set_title('ACT Participation vs Composite Scores in 2018', weight = 'bold');\n",
    "ax[0,0].set_xlabel('participation');\n",
    "ax[0,1].set_xlabel('participation')\n",
    "ax[0,0].set_ylabel('total average scores');\n",
    "ax[0,1].set_ylabel('total average scores')\n",
    "ax[1,0].set_ylabel('average composite scores')\n",
    "ax[1,1].set_ylabel('average composite scores')\n",
    "ax[1,0].set_xlabel('participation')\n",
    "ax[1,1].set_xlabel('participation');"
   ]
  },
  {
   "cell_type": "markdown",
   "metadata": {},
   "source": [
    "Interestingly there seems to be a negative correlation between the test participation and total/composite scores. This is visible roughly in both years and for both tests. It is possible that the more students take the test the more the test scores vary. Thus it will bring the average down. "
   ]
  },
  {
   "cell_type": "markdown",
   "metadata": {},
   "source": [
    "#### (Optional): Using Tableau, create a choropleth map for each variable using a map of the US. \n",
    "\n",
    "Save this plot as an image file in an images directory, provide a relative path, and insert the image into notebook in markdown."
   ]
  },
  {
   "cell_type": "code",
   "execution_count": null,
   "metadata": {},
   "outputs": [],
   "source": []
  },
  {
   "cell_type": "markdown",
   "metadata": {},
   "source": [
    "## Outside Research"
   ]
  },
  {
   "cell_type": "markdown",
   "metadata": {},
   "source": [
    "Based upon your observations, choose **three** states that demonstrate interesting trends in their SAT and/or ACT participation rates. Spend some time doing outside research on state policies that might influence these rates, and summarize your findings below. **Feel free to go back and create new plots that highlight these states of interest**. If you bring in any outside tables or charts, make sure you are explicit about having borrowed them. If you quote any text, make sure that it renders as being quoted. (Make sure that you cite your sources -- check with you local instructor for citation preferences)."
   ]
  },
  {
   "cell_type": "markdown",
   "metadata": {},
   "source": [
    "    The first state that drew my attention was the state of Maine. It has nearly 100% partipation in SAT but a very low (8% in 2017) participation in ACT. According to [edweek.com ](https://www.edweek.org/ew/section/multimedia/states-require-students-take-sat-or-act.html), Maine made it a requirement to take the SAT. This explains the 100% SAT participation. However, the 8% participation in Maine strikes me as awfully low. At this moment I could not find any documentation to explain this. \n",
    "\n",
    "\n",
    "The second state that interested me was Colorado. It had an 89% increase in SAT participation and a 70% decrease in ACT participation. Now we saw that SAT and ACT participation have a negative correlation in the heat map above. The drop in ACT is most likely explained by the negative correlation. The SAT participation went up, thus the ACT participation went down. However, why did the SAT participation go up in the first place? According to the following article, [testive](https://www.testive.com/colorado-sat-change-2017/), in 2016, Colorado made the SAT testing mandatory for juniors. In 2017, they would all have taken the SAT. Thus by the time they became seniors they would have already have taken the SAT and would have counted in participation. \n",
    "\n",
    "Now how about Florida, Georgia, Hawaii, North Carolina and South Carolina? These five states have equally high participation rates (higher than 50%) in both SAT and ACT. According the edweek.com article I already mentioned above, North Carolina and Hawaii both require mandatory ACT participation. This would account for 100% ACT participation in North Carolina but doesn't explain the 100% SAT participation in 2018. \n",
    "\n",
    "According to [edweek](https://www.edweek.org/ew/section/multimedia/states-require-students-take-sat-or-act.html),\n",
    "South Carolina requires students to take either \n",
    "or SAT. The participation in both test for this state is approximately 50% for both. It seems the preference for which test to take in these tests is about the same for both tests. "
   ]
  },
  {
   "cell_type": "markdown",
   "metadata": {},
   "source": [
    "## Conclusions and Recommendations"
   ]
  },
  {
   "cell_type": "markdown",
   "metadata": {},
   "source": [
    "Based on your exploration of the data, what are you key takeaways and recommendations? Choose one state with a lower participation rate and provide a suggestion for how the College Board might increase participation amongst graduating seniors in this state. Are there additional data you desire that would better inform your investigations?\n",
    "\n",
    "Based on the analysis of the data and looking in to policies the states have set, it is clear that the participation is heavily dependent on the policy of the state. \n",
    "\n",
    "The states that require the students to take the SAT will have a 100% participation in the test. However, that usually results in the drop in ACT participation. The states that give the option of either or, result in approximately even participation between the ACT and SAT. \n",
    "\n",
    "States who haven't yet made the change to mandatory test participation should look in to doing so. It is possible that one of the factors that plays in benefit to the student is the fact that the test can be taken during school hours and becomes affordable. \n",
    "\n",
    "It would be beneficial to study the correlation of ACT vs SAT testing with state average income. Will the income influence which test is favored? Another question we can study is correlation between participation and number of parents/number of working parents. \n",
    "\n",
    "Another interesting question: which test is more beneficial for the student. "
   ]
  },
  {
   "cell_type": "markdown",
   "metadata": {},
   "source": [
    "## Bonus: Descriptive and Inferential Statistics"
   ]
  },
  {
   "cell_type": "markdown",
   "metadata": {},
   "source": [
    "#### Summarizing Distributions\n",
    "\n",
    "Above, we used pandas `describe` to provide quick summary statistics of our numeric columns. We also demonstrated many visual relationships.\n",
    "\n",
    "As data scientists, having a complete understanding of data is imperative prior to modeling.\n",
    "\n",
    "While we will continue to build our analytic tools, we know that measures of *central tendency*, *spread*, and *shape/skewness* provide a quick summary of distributions.\n",
    "\n",
    "For each variable in your data, summarize the underlying distributions (in words & statistics)\n",
    " - Be thorough in your verbal description of these distributions.\n",
    " - Be sure to back up these summaries with statistics."
   ]
  },
  {
   "cell_type": "markdown",
   "metadata": {},
   "source": [
    "Answers:"
   ]
  },
  {
   "cell_type": "markdown",
   "metadata": {},
   "source": [
    "#### We generally assuming that data we sample from a population will be normally distributed. Do we observe this trend?"
   ]
  },
  {
   "cell_type": "markdown",
   "metadata": {},
   "source": [
    "Answer:"
   ]
  },
  {
   "cell_type": "markdown",
   "metadata": {},
   "source": [
    "Does This Assumption Hold for:\n",
    "    - Math\n",
    "    - Reading\n",
    "    - Rates\n",
    "Explain your answers for each distribution and how you think this will affect estimates made from these data."
   ]
  },
  {
   "cell_type": "markdown",
   "metadata": {},
   "source": [
    "Answer:"
   ]
  },
  {
   "cell_type": "markdown",
   "metadata": {},
   "source": [
    "#### Estimate Limits of Data\n",
    "\n",
    "Suppose we only seek to understand the relationship between SAT and ACT participation rates in 2017. \n",
    "\n",
    "##### Does it make sense to conduct statistical inference given these data specifically? \n",
    "\n",
    "Why or why not?\n",
    "\n",
    "*(think about granularity, aggregation, the relationships between populations size & rates...consider the actually populations these data describe in answering this question)*"
   ]
  },
  {
   "cell_type": "markdown",
   "metadata": {},
   "source": [
    "Answer:"
   ]
  },
  {
   "cell_type": "markdown",
   "metadata": {},
   "source": [
    "##### Is it appropriate to compare *these* specific SAT and ACT math scores? \n",
    "\n",
    "Why or why not?"
   ]
  },
  {
   "cell_type": "markdown",
   "metadata": {},
   "source": [
    "Answer:"
   ]
  },
  {
   "cell_type": "markdown",
   "metadata": {},
   "source": [
    "#### Statistical Evaluation of Distributions \n",
    "\n",
    "**If you feel it's appropriate**, using methods we discussed in class, run hypothesis tests to compare variables of interest in our dataset. "
   ]
  },
  {
   "cell_type": "code",
   "execution_count": 64,
   "metadata": {},
   "outputs": [],
   "source": [
    "# Code:"
   ]
  },
  {
   "cell_type": "code",
   "execution_count": null,
   "metadata": {},
   "outputs": [],
   "source": []
  }
 ],
 "metadata": {
  "anaconda-cloud": {},
  "kernelspec": {
   "display_name": "Python 3",
   "language": "python",
   "name": "python3"
  },
  "language_info": {
   "codemirror_mode": {
    "name": "ipython",
    "version": 3
   },
   "file_extension": ".py",
   "mimetype": "text/x-python",
   "name": "python",
   "nbconvert_exporter": "python",
   "pygments_lexer": "ipython3",
   "version": "3.7.4"
  }
 },
 "nbformat": 4,
 "nbformat_minor": 2
}
